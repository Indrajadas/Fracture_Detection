{
  "cells": [
    {
      "cell_type": "code",
      "execution_count": null,
      "metadata": {
        "id": "K7Cng5OPfdn4"
      },
      "outputs": [],
      "source": [
        "import pandas as pd\n",
        "import numpy as np\n",
        "import os\n",
        "import warnings\n",
        "warnings.filterwarnings('ignore')\n",
        "from skimage.transform import resize\n",
        "from skimage.io import imread\n",
        "from keras.models import Sequential\n",
        "from keras.layers import Conv2D,Dense,MaxPool2D,Flatten"
      ]
    },
    {
      "cell_type": "code",
      "execution_count": null,
      "metadata": {
        "colab": {
          "base_uri": "https://localhost:8080/"
        },
        "id": "Op9jyWCLh9xe",
        "outputId": "add25b0d-9e8d-458a-8bae-664af8a587d7"
      },
      "outputs": [
        {
          "output_type": "execute_result",
          "data": {
            "text/plain": [
              "['not fractured', 'fractured']"
            ]
          },
          "metadata": {},
          "execution_count": 2
        }
      ],
      "source": [
        "datadir='/content/drive/MyDrive/data/train'\n",
        "os.listdir(datadir)"
      ]
    },
    {
      "cell_type": "code",
      "execution_count": null,
      "metadata": {
        "colab": {
          "base_uri": "https://localhost:8080/"
        },
        "id": "0WkyFCaOiSvK",
        "outputId": "2ee59c80-8942-42e9-92ad-7cdabca6b882"
      },
      "outputs": [
        {
          "output_type": "stream",
          "name": "stdout",
          "text": [
            "Loaded... not fractured\n",
            "Loaded... fractured\n"
          ]
        }
      ],
      "source": [
        "X_train=[]\n",
        "Y_train=[]\n",
        "categories=['not fractured', 'fractured']\n",
        "for category in categories:\n",
        "  path=os.path.join(datadir,category)\n",
        "  #print(path)\n",
        "  images=os.listdir(path)\n",
        "  #print(images)\n",
        "  for image in images:\n",
        "    img_path=os.path.join(path,image)\n",
        "    #print(img_path)\n",
        "    img_array=imread(img_path)\n",
        "    #print(img_array.shape)\n",
        "    img_res=resize(img_array,(150,150,1))\n",
        "    X_train.append(img_res)\n",
        "    Y_train.append(categories.index(category))\n",
        "  print(\"Loaded...\",category)\n"
      ]
    },
    {
      "cell_type": "code",
      "execution_count": null,
      "metadata": {
        "colab": {
          "base_uri": "https://localhost:8080/"
        },
        "id": "lzlR5ahArNhB",
        "outputId": "d6721e64-b796-42e4-d972-e1493973d23a"
      },
      "outputs": [
        {
          "output_type": "stream",
          "name": "stdout",
          "text": [
            "Loaded... not fractured\n",
            "Loaded... fractured\n"
          ]
        }
      ],
      "source": [
        "datadir='/content/drive/MyDrive/data/test'\n",
        "X_test=[]\n",
        "Y_test=[]\n",
        "categories=['not fractured', 'fractured']\n",
        "for category in categories:\n",
        "  path=os.path.join(datadir,category)\n",
        "  images=os.listdir(path)\n",
        "  for image in images:\n",
        "    img_path=os.path.join(path,image)\n",
        "    img_array=imread(img_path)\n",
        "    img_re=resize(img_array,(150,150,1))\n",
        "    X_test.append(img_re)\n",
        "    Y_test.append(categories.index(category))\n",
        "  print(\"Loaded...\",category)\n"
      ]
    },
    {
      "cell_type": "code",
      "execution_count": null,
      "metadata": {
        "id": "KZMSweCjsl1Z"
      },
      "outputs": [],
      "source": [
        "X_train=np.array(X_train)\n",
        "X_test=np.array(X_test)\n",
        "Y_train=np.array(Y_train)\n",
        "Y_test=np.array(Y_test)"
      ]
    },
    {
      "cell_type": "code",
      "execution_count": null,
      "metadata": {
        "colab": {
          "base_uri": "https://localhost:8080/"
        },
        "id": "QE-MQ7Res6pd",
        "outputId": "708f251d-01fd-4058-a0b4-f4fc36a7c632"
      },
      "outputs": [
        {
          "output_type": "execute_result",
          "data": {
            "text/plain": [
              "((8903, 150, 150, 1), (8903,))"
            ]
          },
          "metadata": {},
          "execution_count": 6
        }
      ],
      "source": [
        "X_train.shape,Y_train.shape"
      ]
    },
    {
      "cell_type": "code",
      "execution_count": null,
      "metadata": {
        "colab": {
          "base_uri": "https://localhost:8080/"
        },
        "id": "VN4YWxNhs_e-",
        "outputId": "016a777a-e07c-4acd-a0a4-b13d134d3bbe"
      },
      "outputs": [
        {
          "output_type": "execute_result",
          "data": {
            "text/plain": [
              "((624, 150, 150, 1), (624,))"
            ]
          },
          "metadata": {},
          "execution_count": 7
        }
      ],
      "source": [
        "X_test.shape,Y_test.shape"
      ]
    },
    {
      "cell_type": "code",
      "execution_count": null,
      "metadata": {
        "id": "mDhgv8HctIO_"
      },
      "outputs": [],
      "source": [
        "model=Sequential()\n",
        "model.add(Conv2D(32,(3,3),input_shape=(150,150,1),activation='relu'))\n",
        "model.add(MaxPool2D(2,2))\n",
        "model.add(Flatten())\n",
        "model.add(Dense(100,activation='relu'))\n",
        "model.add(Dense(4,activation='softmax'))"
      ]
    },
    {
      "cell_type": "code",
      "execution_count": null,
      "metadata": {
        "colab": {
          "base_uri": "https://localhost:8080/"
        },
        "id": "ZnQTUle_t7gm",
        "outputId": "7d8b9f02-af83-4f6e-f780-b3c32d7ae470"
      },
      "outputs": [
        {
          "output_type": "stream",
          "name": "stdout",
          "text": [
            "Epoch 1/20\n",
            "\u001b[1m742/742\u001b[0m \u001b[32m━━━━━━━━━━━━━━━━━━━━\u001b[0m\u001b[37m\u001b[0m \u001b[1m361s\u001b[0m 485ms/step - accuracy: 0.6956 - loss: 1.0131\n",
            "Epoch 2/20\n",
            "\u001b[1m742/742\u001b[0m \u001b[32m━━━━━━━━━━━━━━━━━━━━\u001b[0m\u001b[37m\u001b[0m \u001b[1m383s\u001b[0m 486ms/step - accuracy: 0.9420 - loss: 0.1625\n",
            "Epoch 3/20\n",
            "\u001b[1m742/742\u001b[0m \u001b[32m━━━━━━━━━━━━━━━━━━━━\u001b[0m\u001b[37m\u001b[0m \u001b[1m372s\u001b[0m 474ms/step - accuracy: 0.9872 - loss: 0.0433\n",
            "Epoch 4/20\n",
            "\u001b[1m742/742\u001b[0m \u001b[32m━━━━━━━━━━━━━━━━━━━━\u001b[0m\u001b[37m\u001b[0m \u001b[1m390s\u001b[0m 485ms/step - accuracy: 0.9938 - loss: 0.0217\n",
            "Epoch 5/20\n",
            "\u001b[1m742/742\u001b[0m \u001b[32m━━━━━━━━━━━━━━━━━━━━\u001b[0m\u001b[37m\u001b[0m \u001b[1m375s\u001b[0m 475ms/step - accuracy: 0.9982 - loss: 0.0104\n",
            "Epoch 6/20\n",
            "\u001b[1m742/742\u001b[0m \u001b[32m━━━━━━━━━━━━━━━━━━━━\u001b[0m\u001b[37m\u001b[0m \u001b[1m380s\u001b[0m 473ms/step - accuracy: 0.9880 - loss: 0.0381\n",
            "Epoch 7/20\n",
            "\u001b[1m742/742\u001b[0m \u001b[32m━━━━━━━━━━━━━━━━━━━━\u001b[0m\u001b[37m\u001b[0m \u001b[1m359s\u001b[0m 484ms/step - accuracy: 0.9968 - loss: 0.0099\n",
            "Epoch 8/20\n",
            "\u001b[1m742/742\u001b[0m \u001b[32m━━━━━━━━━━━━━━━━━━━━\u001b[0m\u001b[37m\u001b[0m \u001b[1m358s\u001b[0m 483ms/step - accuracy: 1.0000 - loss: 0.0011\n",
            "Epoch 9/20\n",
            "\u001b[1m742/742\u001b[0m \u001b[32m━━━━━━━━━━━━━━━━━━━━\u001b[0m\u001b[37m\u001b[0m \u001b[1m375s\u001b[0m 473ms/step - accuracy: 1.0000 - loss: 1.3860e-04\n",
            "Epoch 10/20\n",
            "\u001b[1m742/742\u001b[0m \u001b[32m━━━━━━━━━━━━━━━━━━━━\u001b[0m\u001b[37m\u001b[0m \u001b[1m392s\u001b[0m 487ms/step - accuracy: 1.0000 - loss: 6.9761e-05\n",
            "Epoch 11/20\n",
            "\u001b[1m742/742\u001b[0m \u001b[32m━━━━━━━━━━━━━━━━━━━━\u001b[0m\u001b[37m\u001b[0m \u001b[1m384s\u001b[0m 490ms/step - accuracy: 1.0000 - loss: 4.5608e-05\n",
            "Epoch 12/20\n",
            "\u001b[1m742/742\u001b[0m \u001b[32m━━━━━━━━━━━━━━━━━━━━\u001b[0m\u001b[37m\u001b[0m \u001b[1m370s\u001b[0m 474ms/step - accuracy: 1.0000 - loss: 2.8627e-05\n",
            "Epoch 13/20\n",
            "\u001b[1m742/742\u001b[0m \u001b[32m━━━━━━━━━━━━━━━━━━━━\u001b[0m\u001b[37m\u001b[0m \u001b[1m350s\u001b[0m 471ms/step - accuracy: 1.0000 - loss: 1.9127e-05\n",
            "Epoch 14/20\n",
            "\u001b[1m742/742\u001b[0m \u001b[32m━━━━━━━━━━━━━━━━━━━━\u001b[0m\u001b[37m\u001b[0m \u001b[1m352s\u001b[0m 474ms/step - accuracy: 1.0000 - loss: 1.2608e-05\n",
            "Epoch 15/20\n",
            "\u001b[1m742/742\u001b[0m \u001b[32m━━━━━━━━━━━━━━━━━━━━\u001b[0m\u001b[37m\u001b[0m \u001b[1m380s\u001b[0m 471ms/step - accuracy: 1.0000 - loss: 8.6512e-06\n",
            "Epoch 16/20\n",
            "\u001b[1m742/742\u001b[0m \u001b[32m━━━━━━━━━━━━━━━━━━━━\u001b[0m\u001b[37m\u001b[0m \u001b[1m384s\u001b[0m 474ms/step - accuracy: 1.0000 - loss: 5.8664e-06\n",
            "Epoch 17/20\n",
            "\u001b[1m742/742\u001b[0m \u001b[32m━━━━━━━━━━━━━━━━━━━━\u001b[0m\u001b[37m\u001b[0m \u001b[1m381s\u001b[0m 473ms/step - accuracy: 1.0000 - loss: 4.3091e-06\n",
            "Epoch 18/20\n",
            "\u001b[1m742/742\u001b[0m \u001b[32m━━━━━━━━━━━━━━━━━━━━\u001b[0m\u001b[37m\u001b[0m \u001b[1m349s\u001b[0m 471ms/step - accuracy: 1.0000 - loss: 2.7450e-06\n",
            "Epoch 19/20\n",
            "\u001b[1m742/742\u001b[0m \u001b[32m━━━━━━━━━━━━━━━━━━━━\u001b[0m\u001b[37m\u001b[0m \u001b[1m385s\u001b[0m 475ms/step - accuracy: 1.0000 - loss: 1.9182e-06\n",
            "Epoch 20/20\n",
            "\u001b[1m742/742\u001b[0m \u001b[32m━━━━━━━━━━━━━━━━━━━━\u001b[0m\u001b[37m\u001b[0m \u001b[1m379s\u001b[0m 471ms/step - accuracy: 1.0000 - loss: 1.3006e-06\n"
          ]
        },
        {
          "output_type": "execute_result",
          "data": {
            "text/plain": [
              "<keras.src.callbacks.history.History at 0x7b0bc9351720>"
            ]
          },
          "metadata": {},
          "execution_count": 9
        }
      ],
      "source": [
        "model.compile(optimizer='adam',loss='sparse_categorical_crossentropy',metrics=['accuracy'])\n",
        "model.fit(X_train,Y_train,epochs=20,batch_size=12)"
      ]
    },
    {
      "cell_type": "code",
      "execution_count": null,
      "metadata": {
        "id": "_WsOPRn3pRB_",
        "colab": {
          "base_uri": "https://localhost:8080/"
        },
        "outputId": "b518df09-3b31-4a2f-84d3-649fb26f03fd"
      },
      "outputs": [
        {
          "output_type": "stream",
          "name": "stdout",
          "text": [
            "\u001b[1m20/20\u001b[0m \u001b[32m━━━━━━━━━━━━━━━━━━━━\u001b[0m\u001b[37m\u001b[0m \u001b[1m4s\u001b[0m 192ms/step - accuracy: 0.7480 - loss: 2.5283\n"
          ]
        },
        {
          "output_type": "execute_result",
          "data": {
            "text/plain": [
              "[3.112825870513916, 0.7147436141967773]"
            ]
          },
          "metadata": {},
          "execution_count": 12
        }
      ],
      "source": [
        "model.evaluate(X_test,Y_test)"
      ]
    },
    {
      "cell_type": "code",
      "execution_count": null,
      "metadata": {
        "id": "d0bx6_wiwW9L",
        "colab": {
          "base_uri": "https://localhost:8080/",
          "height": 54
        },
        "outputId": "59aa8374-1704-4f57-ccb6-ead1eb66d6f6"
      },
      "outputs": [
        {
          "output_type": "stream",
          "name": "stderr",
          "text": [
            "WARNING:absl:You are saving your model as an HDF5 file via `model.save()` or `keras.saving.save_model(model)`. This file format is considered legacy. We recommend using instead the native Keras format, e.g. `model.save('my_model.keras')` or `keras.saving.save_model(model, 'my_model.keras')`. \n"
          ]
        },
        {
          "output_type": "display_data",
          "data": {
            "text/plain": [
              "<IPython.core.display.Javascript object>"
            ],
            "application/javascript": [
              "\n",
              "    async function download(id, filename, size) {\n",
              "      if (!google.colab.kernel.accessAllowed) {\n",
              "        return;\n",
              "      }\n",
              "      const div = document.createElement('div');\n",
              "      const label = document.createElement('label');\n",
              "      label.textContent = `Downloading \"${filename}\": `;\n",
              "      div.appendChild(label);\n",
              "      const progress = document.createElement('progress');\n",
              "      progress.max = size;\n",
              "      div.appendChild(progress);\n",
              "      document.body.appendChild(div);\n",
              "\n",
              "      const buffers = [];\n",
              "      let downloaded = 0;\n",
              "\n",
              "      const channel = await google.colab.kernel.comms.open(id);\n",
              "      // Send a message to notify the kernel that we're ready.\n",
              "      channel.send({})\n",
              "\n",
              "      for await (const message of channel.messages) {\n",
              "        // Send a message to notify the kernel that we're ready.\n",
              "        channel.send({})\n",
              "        if (message.buffers) {\n",
              "          for (const buffer of message.buffers) {\n",
              "            buffers.push(buffer);\n",
              "            downloaded += buffer.byteLength;\n",
              "            progress.value = downloaded;\n",
              "          }\n",
              "        }\n",
              "      }\n",
              "      const blob = new Blob(buffers, {type: 'application/binary'});\n",
              "      const a = document.createElement('a');\n",
              "      a.href = window.URL.createObjectURL(blob);\n",
              "      a.download = filename;\n",
              "      div.appendChild(a);\n",
              "      a.click();\n",
              "      div.remove();\n",
              "    }\n",
              "  "
            ]
          },
          "metadata": {}
        },
        {
          "output_type": "display_data",
          "data": {
            "text/plain": [
              "<IPython.core.display.Javascript object>"
            ],
            "application/javascript": [
              "download(\"download_8725634f-47b1-4d0c-9632-dd3d2e3e6cd6\", \"cnn_model.h5\", 210321896)"
            ]
          },
          "metadata": {}
        }
      ],
      "source": [
        "model.save('cnn_model.h5')\n",
        "from google.colab import files\n",
        "files.download('cnn_model.h5')"
      ]
    },
    {
      "cell_type": "code",
      "execution_count": null,
      "metadata": {
        "id": "YByu4iT0HZ3A",
        "colab": {
          "base_uri": "https://localhost:8080/",
          "height": 264
        },
        "outputId": "545499e2-2413-4cf9-e0cd-7a72407bda65"
      },
      "outputs": [
        {
          "output_type": "execute_result",
          "data": {
            "text/plain": [
              "array([[[0, 0, 0],\n",
              "        [0, 0, 0],\n",
              "        [0, 0, 0],\n",
              "        ...,\n",
              "        [0, 0, 0],\n",
              "        [0, 0, 0],\n",
              "        [0, 0, 0]],\n",
              "\n",
              "       [[0, 0, 0],\n",
              "        [0, 0, 0],\n",
              "        [0, 0, 0],\n",
              "        ...,\n",
              "        [0, 0, 0],\n",
              "        [0, 0, 0],\n",
              "        [0, 0, 0]],\n",
              "\n",
              "       [[0, 0, 0],\n",
              "        [0, 0, 0],\n",
              "        [0, 0, 0],\n",
              "        ...,\n",
              "        [0, 0, 0],\n",
              "        [0, 0, 0],\n",
              "        [0, 0, 0]],\n",
              "\n",
              "       ...,\n",
              "\n",
              "       [[0, 0, 0],\n",
              "        [0, 0, 0],\n",
              "        [0, 0, 0],\n",
              "        ...,\n",
              "        [0, 0, 0],\n",
              "        [0, 0, 0],\n",
              "        [0, 0, 0]],\n",
              "\n",
              "       [[0, 0, 0],\n",
              "        [0, 0, 0],\n",
              "        [0, 0, 0],\n",
              "        ...,\n",
              "        [0, 0, 0],\n",
              "        [0, 0, 0],\n",
              "        [0, 0, 0]],\n",
              "\n",
              "       [[0, 0, 0],\n",
              "        [0, 0, 0],\n",
              "        [0, 0, 0],\n",
              "        ...,\n",
              "        [0, 0, 0],\n",
              "        [0, 0, 0],\n",
              "        [0, 0, 0]]], dtype=uint8)"
            ],
            "text/html": [
              "<style>\n",
              "      .ndarray_repr .ndarray_raw_data {\n",
              "        display: none;\n",
              "      }\n",
              "      .ndarray_repr.show_array .ndarray_raw_data {\n",
              "        display: block;\n",
              "      }\n",
              "      .ndarray_repr.show_array .ndarray_image_preview {\n",
              "        display: none;\n",
              "      }\n",
              "      </style>\n",
              "      <div id=\"id-7fe93773-d280-462d-9e93-b78edeb8f929\" class=\"ndarray_repr\"><pre>ndarray (224, 224, 3) <button style=\"padding: 0 2px;\">show data</button></pre><img src=\"data:image/png;base64,iVBORw0KGgoAAAANSUhEUgAAAOAAAADgCAIAAACVT/22AABkNklEQVR4nOW9yXNjOXY9DOA9caaGHCtr7u4Kt93dKzvCEV7Zf7aXXnhvO+yuX0d3VdaYlalZHMXx4VucwqnzgEeKlChlZn13oaDIN2A4uDMurNk1WWvxoVarNRoNGwhfeu9xjbUWn9cQL06/TF9Xee+2PxVF4b231mZZ1mg0ms1mLVCWZcaYer1ujMmyDP9aa5vN5sHBwccff/zHP/7xs88+q9Vqs9lssVgYY6bT6dXV1dXV1fX19Xg8nkwm4/H45OTk5ORkNpsNh8OiKCaTyXA4XC6XuKYoivl8XhQFx8c5VxQFOxt9mWXZcrnUn6KRuXGQ33HKd/WgaICcc1mWOef0S37WDyn++E0l+DZB9lZN1ffqQgJpg51zChFjTKvVevr06ZMnT549e7a/v99sNo0xtVrNGDObzbz33W630+nwS+/92dnZ69evl8ul9z7P8+VyiZdOJpPZbLZcLk9PT3/88cfvvvvuzZs3l5eXACubhPYURYEGVKLz1wFN0M4AGmHOOYfpjHinMsU136zii6C7Y3Q94e1FUQBGZKvayMVi0W63nz179umnnz5+/Pjo6AhAXC6Xy+VyPp9fX19Pp1NjTJ7neZ6D4Tnn8kBZluV5bgLWDw8Psao/++yz3/72t/1+//j4+Keffjo5OTk+Pr68vJxOpxzbxWLBESA3RQvR2ocZqAegnQE0IgjBSum8Hnyb0KpBv8tk6KTi32UgwEjVEigAH3zwweeff/7ixYt2u93tdpvNJgQ0YA3pMZvN5vN5vV7PsgxsDzwPtFgsgF3v/d7eHq6v1WpPnjx5/Pjxxx9//Pvf//709PT169fHx8cnJycXFxf9fn+xWBCF1KDwOsp9IHVXg/MWaZcA5dSCNyhAI6aIz6vUJrOWoVZK51s0df1dmOzFYgG0aUecc81m88WLFx9//PHz58/b7XatVgOIF4vFbDYzZYUBj6Ioh2BRyc4FAFaK9+LKTqdTr9efPXs2mUzOzs6Oj49/+OGHy8vL0Wh0fX09Go0mk8lyuYxwr/DddmTeNdo9B1X5HplEEUZvhIhJwLcTdK5qdvQNUAWAkqy1jUbj4ODgww8/PDw83Nvbg1yGuWOMybKMV9br9b29vcViAbaKkcGHoijA4fb29jAURNVisVgsFnwOntlsNj/44IOjo6OPP/4YoLy8vHzz5s3p6embN2+Gw+He3t58PqcCwE6l4v790lB3CVBaDyBTNQoRDlbBVA2CTa6/Ba0xLPATQDOfz4EwqI/OuVar9fjx44ODg3q9Pp/Pp9MpbB1cM5/PoR4YY/I8x2MXiwW4Jj7AYKIeuVwu4RPAjbjm+voa3Bqy23tfq9Xq9fqHH37Y6XTa7fZ0Or28vDw/P//666//9re/vXr16uTkZDQa4dW4cbFYqJ36PjLUXVrx+ED7ndNsVgzNKmtaP6uZda+0qjFAJ1RqdK3RaHS7XXC48Xh8fX1dFEW73a7X67VaDdyLSiEg0mq1wBdnsxl8WGSZ+ACxDlTB/Fdb0xizt7fXbrcbjUa73W63281ms9FoYAFcXV19/fXXJycnX3/99XfffQfTqtfr0fx/r2mXVjymBBNgjMEApapnJLt5TeriwdxEdCPub2xnpYIL4RsJRKh3k8kEkhpNhV5orYVXCO6h8Xh8dHSE5wCX3vv5fM6Roc3uvW82m9fX15D1UHOLQHt7e7VazXsPF3K9Xq/X6957aAutVmtvb49OAKgHR0dH//RP/9Rut/f29n788ccvv/zyv//7v//v//7v+Pj44uIC7lV0k8w1sp/S2Xl3aMciHoteDd5N9B69kqCMDKPIXXVr3qB2mD4WAprylH2ByJ5MJlh41lrgDE4fwGs8HpugTTYaDXRhsViMx2OI70ajATjSNuICMMbgS6qt+/v7tLryPId1X6/X8zwHahuNBtmnMQZWGhD86aefPnr06A9/+MP333//8uVL/H316tXr16+n0ynNvsj5b0Snetc8UzsW8ZjFVAFNtb2tBiJC504ofRQYP+GCC2AqXV9fQweFWFgsFrC+Iaadc/v7+5D78/kcIahOp1Or1WBuD4dDIAx9yfMc+utisdjb26Pr1DlXr9ebzSbAR2upXq+3222oGbVaDVwWqwW3IL41Go0uLy/7/f58Pn/27NnBwcGf/vSn4XB4fn7+1Vdf/eUvf/nmm29ev349Go2M8NFIlFUy17dIO7biNYAUgTL6V70w+oTUPErRGbHPbVGbvtEYQ/40mUwwSepThPqY5/lkMplOp6PRCBIWTLfZbCKMNBqNptPpcDiE3pnnOXRT8No8z8Em8zzvdrv1eh3cN8uy2WxWFEW9Xoc/dbFYTKfT5XIJVgo/K0YV2IVLlSwft5+enp6enqJtQO3+/v6nn35aFMXf/d3fff755//zP//z5Zdffv/995eXl2gJ9VQqxFuN5APQLnVQLGjwIZPI6MrPlc9Z9ZNK5+i9mz/EVK0WzM3e3h7kKTAKXYUsEwb7eDweDAZ5njebzel0ChzkeQ7Lpt/vX19fIxbfbrdbrRY4H8UxtcC9vb16vQ7+N5vNptMpTDETYp5wDkDXBAQJTfYRDBj/jsfjN2/enJ2d4UpyYnDKZrP59OnTDz74oN/vQ2EYDAbT6RRqtBGWcaN7/4FV1R076tU5v6Ynm6CQ16jSuaHquV5/qPwJHiWN0EbmHRS4yWQyGAxgx2D6IYWtta1WC9gCpouiuL6+xjMJR/BFQLbVagHfWA9cDHmedzqdfr9vjIEWAec/tEywOgZOwRGWyyXCoZPJBE0qioLxpPF4fHp6+vLly6+++ur09NR732q1Wq3WaDQaDAaTyYTRrzUzEqn+D6aq7hKgUYKITZzzoMiKjygV3xygVSx51XMqV/8qA9Z7f319bYwBH4VtpCEZcNnZbNbr9WDFdzodmN7gqVifwBDeApcTxDSNLcRO6/U6HfVcFcAKAL2/v4/Py+US7Jl+AIYP8jyv1Wrz+RwQvLq6ms/n7XYbKwdG23w+v7q6+uabb16+fHl+fj6dTgFf8GznXKPRgLIBZwLarJbi+nG+b9oZQKkSEQSY1MhRjD6nPa/kl0YYJ59pyhBfM4KpKF91PRmkMQYepel0SiueEUhw2eFw2Ol06KlAfl2v15vP53Cho6lQPfHY8XgMUQtmiWEB34LFU6vVYCeRlSJ8D8eqwgVmOPGEdg6Hw8lkAsgCl1gtWZaNRqM3b968fPny+PgYz0fAyQQlgcNIfQB2IXD81m2mHQCUEw/TkkFhTWoEpdZPZPes0tN92WOvULtR3bzxGz4fKiDUUHiR4Ji0ITK5XC5hIfX7fbYH1wAoeAiUP1xPewtLF4wWGsL19fXe3h5kDpeBMQZ6YbfbxfOhZeL22WwGRwHXOfypk8kENtlkMoHO2m630eyzs7Ovvvrq+Ph4MBhwDcA/wOdwIhTZEAW6GKL5ots7FYk7VAB2AFB2cr04iJCqfVgjSnzZA7qVlL8FAYiQjxTTOhngQHDd4zK6LGCMk1G12216NKH81Ov1RqMBBobnAOgABKBPWw2qJHyWJvB4gI/ZTMwGnM/nsMzAj02wyofD4enp6bffftvr9aCf4N7ZbAa1gYucS0gXP3VcfZcmJxiRY6lwS+kWwN2ZiE+T68xmiuaaLqU/rTIq706QbgAfVD26cvgizNBsNhuNRpDLs9kMXJBiEbwnz/P9/X1kiOInYAi4QewefZnP53BM4u21Wq3VatVqtfF4PJ1O6czCw40x8PnTAIL9hObhe6woKLvj8fjVq1dnZ2f4kmsMN0YMImIx/IZxQV/O8KqE6fpBvgVPuT1AdTVQ+zRVWRe8/i6vqKRUxbwjAQfAHKaQvNMGOwm2PIQpuKM2AC76brcLryqYlg1xIwhKvIUM2EgOHryY0AQACEAETi7CFO56ay2cXNZaLIDpdEplwDn3+vXrb7/9FqIA5hHUa/BRkwT/ipCarWOLf+k9hPZCQqcUrNEMmrvJut3ooFYCSPzy1uipvLiSPaeceKsX6ROgOqMXUPuYI5e6BqH2QfzpGzFhSOzwIVMO4wPBbSSbDrcDvrgMLBnXMO8E3Bdkwk4SZtdz11e3210sFoPBAH6lwWAwHA6//fbby8tLJKBgqTA5Kx1V2mFrxooTTUQCoEwniITe3dWw3QA0yp9fz/kqkXQL7aTyls0ZdnQvORb0y/R2fR04GXPtQJg2qJjee8SKECBFrNIYAz0SCq61lnuSOCaIs1trwWKhPECqwkJnqiiCqHC2U1lEGt75+Tk260FdgU7sQso9WLUPuXwmSXBewyB0eMlZqZsqQ9UE6rvQDgCq8v1GWqWy3IjObS2kTeCe8ngA1IaUTV1yRiYJXA1zD00R0w/tEwl4s9ms2WwCmsgg0awlYwzTkeD9mE6nEOLANDxTtVqNjiG8BYl21E1t8AygAdfX171e7/z8/OLiAtwU7QEiAXTiFSCjZ3DN1LD7lULchggie+eDA6uQCOrtuOnWAK1spQJ0jZjg7etVk8oL7s5x07dEn8nSqJmlb8dw63SCm8IBBM6H6Yc6CKYC9yfi8uPxGBIcGUnMkIJqQXAzhgmVAPhbLpcwvKB9drtdsNWiKAaDwfn5OTbZjcdjYLrRaCCFGd5+rBDkpFJMQ/0g87OBKocoGkCwYcJXbUo62rgsKx9yI20NULSpkI2OykF9yABa0yuzQXZS5Y0pB/XlQMBWFLXBBzc40QnvJkSVglK92ZwAHyxcZCfRLQr+d319vVgsDg8PEYJqNBq1Wg1vwXOASOSF0M9F64cJnePxGGCCWon3jkaj4XB4cXFxenp6eXkJfgmtA9IAEKc3KuKXRQiKGtllr2MSDZcOIKGcXsPkVx2rQiJV6aPUzOKjbiPi1WiwiXl0T1Qp39eInls8n/1Cyhw89vABmXIQgeKS7JM6KJ0yhC8439XV1XQ6hZ8SHijkyNGZD5sMYh2UPtA5hxg9uDLANB6Pr66uer0edpDSlWtDekpkbnPcOGs+pFRzfdokwrJGPV01nj6EP1QBYChY21NpOeDLO+mg6BjnRtfTGsSknVyv5aQXVz7zdhjVocG8FmEfEjw4TPo0wle8bEoGQGltYEBs8A052TwIsYtwKCynWq2GzcpFcIBjLkF4uEbmiqIYDodQfBkHwvZObgRlaHQZsv2j6KjOlAuZu2gzvbPKOKkJVA7+Ksjqc/guHxyx2h41/6NXm1sAFFPI5kZMvpJWSYG0TToWW9HdOSg7hb8wfeCSJEps2a0LENgQsgerYITGCS1D5nyWZXCRdjodWE6qqyD4juATBWLkwYHIZqac955INeViExDoClA+J0Lbz7xKlmJR9qzdYkbWABqLVs3/SqSC7sRB+bIbG5pShM5KJp9en0qfXRHVWUhVaH5IClHhDiJf5JiCirD3jVEl/osbwTIRKzLGcBN9ETJIbPDZLUOQk28xxoDvwsMF/EHQe++vr6/RJE48dAbmfERcSlmjD7uv6ACmtRQx1G2JT+Bz+FL2DtI/BestRbyqz5H7c9vnRJx1c9ilGtItGsBHGREFRcizpEkLDhoZoYRjIW6UFKyEKcBXq9XgcrLBGptMJrgAw0iuCdscz4ShhhkFQE3IbERLwCORgFIEfyd0ABhShWzw117rAAKgWZYxAMZ+3Y4pRNdHKhxhasX255AW4vm/DUD5Go5sitFKIbJK1vObNaMQXX9rcK96eKRdoFNAj35D2afQNAGdKqqIThPULwYhUWcBhjwMLGMMXE5O9n/iA8OefClginfleY7sKvUtmHLVCSOiX3sdpRkgptVsNtFObLJbJalvpDWqWsRW9XsgStf/bUQ8X+DK5UNMAsR0paaNjmChjY6eGQmLyibdhSjXlmHvJexujcSkDaasX4YSNJqZQRWo2WzCLY9NS/ASYOsI3EzwpCIxFMFSZN0jHICdzaPRCJYWY0vQVvv9Ph2x4MHQUDmAXDbaWfJgZWDcWEJl2srWpc2lpbIt1SX4K6+sZF42eGpvr4Oq/e7LZviq1ZPKZZWw668vJLnBJKi9O2kD6BUvgt/OBt8hGZIV3ZRAxDcupKjRssaOvIODg1arhbw7XMxkUxo0UC4bjQaqiCEpxIdtcTCziDY8Gb8CoGC9tI3odCzEEcHFo4NJIGLxMIc6ZTHpcK2ilNfcOPLpT7cBqLLPVcLd3CTWV/V81RsrV/Cu0GkSbST6Pv0LskI6ILrkliG6uLe31+12wTjpwwIOELpEbJ3AUk+q975Wq8Fo4yb9oijAVpfLJUCPN2JdwVkWOZgqoanYRQAMygbUBnzY4VBvRZsCVPmWFwfsqutXzfc7S6vUj006ohj1gQjWIuy2g/pIsxKgAc6MMdgFCrsesShaXYAIovDGmCzLsMfj+vq63+9Pp1P4BJaSplkEd5IvExtsqtBpjIEPi5sLqFVvLtx3SxsBNNIpKcUi+Z5SyvnW43UTgZIulU26sDlRPpiEWUZ8lL9G5rwNFjdUfnJW5o+6kKenoaZl2J+UZdlgMDBBN8CVPri4nXP1eh3O+fPzczBd/sqmctjX+wGjAfQh3gtllInbqTBc9YSd00YATRvhZP975QWrqFJr3Er13vDKW5BCf9UFETp92TOCyxh/clJUFj7L2WwGLshEZla/B0yBYPi2GN0huI0xLuzDXCwWw+EQRZxd2BZiyj5O7z1XSNrHVeqZslsu18pheQDxeEs/qMr324EmWrg3vrQSPTvEq61yR5iyENDP5IvRpNK/Y2Unkw3G+3Q6RY0QZJM0Gg3IU2SOQlsFT8WuTiMQob8QyEbSHYSvk1pLvpzkFnFQX9ZBK8eBiy0L1XUiC/WepqCSNgWozs16BTQSi+mXa65/d4hg1S5EXYsIX1Iok3AjKj4MBoP9/X1siocYBVhVjBZFQbaqkopxI5QORT2c8XjMXfMm+DsZWaiUV6asA1R2n7hXIfDw6DRbcVAyA67mQgK729JWuHyAgbDlrff6fSTvKtsTqafLUEHOykYf+DLH47Gm35tQrozh/slkwmwm6ABUZ2u1Goo7WGtRrQR+0EzqZTDFRFeU6serRsAHDxp0DDwKbAgxWx2TO4z0drQFQLkcMXYqxcxm1s+7ySxB0UqzZYduJApsiHkAQ1iuNthGrMCIa5hHh5rI+/v7SFXO85w+HWMMrJ8iZMrR3wk4ogFZqJkznU7hbKI32hjDrdI+ZLGYcm1HE/zzm+jZkbZaqZK9WxwUtMr9+WulSpNOURuJeKBKpXwW9pVDOvd6vVarBYco64fB6NGwKhVQMGC4n2wI4gORcK/6sNOIzgRVMOjVijhopejbUB6u0hzug7YT8SaYR6pgRZfZKr0zHZ27NHq3tHljFJHKO+nWJpcywfLlw+lOQkUxK05ThDqxjxkVwuDAZy0aJICyMhmwjhfB0ic6NeOYbU6BG10TdbBycCLO+mC0qR9URdsa11oqJXfSyvujrVrIQXBlsmWjPhKRXrY9YOs69Dl8CZ0Sm+OgOxljWBUfGGWRR2wdwbYNGEkmHMYAiJOb8u1FOFvRlD3zZi2/TIflbU3lOoCmCHPlneDvPv52TopR5VJGOKspG5S8vgiVS2AbuVCyAcKde5dxI1VP/ASAIv0eZSPG4zFcqgiNolZZ6vtjDSZtv1kxd77sU9tkNO6boW6ng5JhrOL22uLKVbhV/98iVTbeB88iZToHRNVQooTOOCR84Bo4O1XIwq9ZhL3ISBApJF8ODnz8ZIzBLryTk5OrqyuyDG6yY4OpbyzDPlXmuEQTF7H8rWbnvjG6BQe1YQu2XsO+rV+a6fXvMkbXG7lOtg0pKVhNeebUo464/FI2qi/CATRaFYwVZkywjYpQ6/ni4uLVq1eoUobjE4pQ/gmYjvyg6nLSYY8kwF2G6/4wup2baX1g90aK+O67gNFt20DBncJUmagJ+p+RaiJ4AjRRE9gq800JU2B9GerWUvTjmdfX15eXl5eXl4iaupD8j2MRka23DDtFbQgLFav3e6QdrByctzVZ6wBalHdOubBfkd9syDVJKv3fuqyvfG/aHl8OSSuhxpia6jYkLzMz3DmHzRi6LOlsx5e6lR52EmgpeywhvobD4eXlZa/X29vbw7FMsO5RGB9RJW5CcnK+QmoerR8WrrHK782dme7mtAUHvSP7jOit885KWo9aG/zz5JcRZDM5Yo88jLfDtbmQgzRpBgFAk8kEW4JMSMZzYQdInuez2azf7//www8sI0q2Oh6Pi1CWlk4lI6mofGPUr8pBeDDwbULrCi4ow1M/3/+vKGKQVDfVH8zLIj8UjSQNbReyBV5RboyBv5N+KxNEDUz4Xq/3+vXrwWAAIPKYpUaj0Wq1ivIeZTQYifrL8jkeazp74wUPz1bWAVRb45JSgzunG0fnAUjhmJLCDuxQ26wfdD2nD4SbCU9ghii+4Xk0WSiEy6AozPallInENUAqtnlEOctQSVeJhTuP1kPQpo56J/tc+eVOWvCOjxQhSGkbReHxmaYM0UZFkLCmIkvZbcPBithRBC44GAyazaa1FofGwrWEg43pnKLfyjk3Go16vR4CVLqpnHa9SZIb3eqtEO8abdRQG8qvPQCHfxg+uspNvepiK/nwNsmNdxL2JKnoN2X+ii2deMgyVJxzzoGzolQYaoEjrWQymfT7fcRC4VdiFRAEkMbjMQwvyncfyu6tz7vblh6em2wEUCcbPDZRZbYi1d4egLZ9F90xtI0Ul25FsnoESsVNURQ4XAGRdyAJ+Ww8nGmxWIB94vvLy8vBYGAlock5h6h9v9+HgwkBT4bp4WQlQO9IO5/0zelmgKoifwuAbs6rvNCGD98tremUTfLrOA4qxDPZmQ7VkGKdNb0Wi0Wn04HDDlqmMQa74wnW+XyO0mJZls1ms/Pz8+FwmIUy4VmWYQOTtfby8hJnKjOtqQjp9ARoNKrp8K4f8Lerg92sg9qQslUkJ+WYDcy6yu7pl9EFb9f9VCkKqWICkVnYHsSaH/Qf0Xax5TRnuksXi0Wr1TLGwJ0EbgdXpXMOx8hiNxICnuPx+Pz8/PLyEs4pvNcEmTadTnu9HncVL6WuiTGGZe1Nec8MlWDttXnbQFxFNwCUTCJt/T0haUPcPyShUpIL9bbzUHLblgkXc6xoQnFtg4myvlIh53P6cPoRkkRxF5xEFxcXzA1nyBRlc3C4smaFKnF/fUrvJhYr6WYOSsll7qdjvpxfcq9jtwb3KhnI+YC8XM4X5OesnBcb2e/q5gTvpInpnGPKvbqEgF1UZkTdG7hFcXS2C9WdiNHFYtHv95dyApPKd7pF728wH4Zu0EGtuJEj2qGyqErS/emg29pG+ODKuUuVqSGR8a66oLJYPgF6JFRJG0p0O+dQuL7VaiGtbrlc8jgvYh0fEB2F015rhzCGVJSrhb1HLDOim0V8Vt4z8J7Sto33UqmecORQpPKd6NQoKG8kaFzIPuaax4LEpiX8CvGNjCfaRly9y1AnZ7lcopYYHksfk1pIvipD9P0C6w2hTg0up7++R13dvKlk4S4csAmIqB80Aqj+C2RDE1BryYbDNrFpzoRcHG7/wGLASe5EGAqJWTEDbNiuxIr0XjbCU77T37Rt998p8t6vA2gWzuR7sAa9U+TCURuuHDRKVU9lTsS3lXg6EGOtbTQah4eH0EHVjoH2CeGOsiLQLI0xqArGs8VQHsd7j40fRpys+i7mj76NkdsNYRhvSFiOFNBKVvqrIV9OinPl8j5WrHIjvmsFgQ6OLbvSYKGj/jeT8eiZz7Ks2WyieCygmcmx22DJtL30EHnukmMD1FqqBOh9W6K7pRigVDedbLg2Seb8e9RD0Ob2+88Lt7xDyJXTlzgsXMBqxStP9VKbkyomU5KZ1gTvEjgrPPxFUbDKnA+lRuHtAveF/cRmMyhgBKYmTKWtSqRXWjOhb3fGb+Cg5BC/bt6pZEM1BOSFGJEkkXDPqrZ5kOdFj6WKya2bZHXQdHFuYhGK0ivmCBEqXUhfYi6IL5NaS7sak5085xYUA1TXmbIK82tnn9pxmDgUIJF3KRXxTlJDFLvUEHxIWG61WtApadoDdjDtERy6vr424cwatb30pWTJyonVCVrIHo8Nh2jVtL7d6c61ETpJ6tXTG947dK6hyilEx4nOVL6nDFK/iYS7XoAYEqx7E0o5MPXThUOzCTh6D+AxjTiiDT4WDbjjJzWb0pndzdg9FJVUTJKtsk/Ty94L2rzNxCK1T1OW77zMll1LpjxiKu75E7RMVgKjBNf1QF8mDpxly9kYslWK+CJUMTGiCRCgG8KxUifhTxuO3j1RhZuJSphNtlm99ebeK9E0jJztKtxT4u1r+CtQiMMJnBx/zaHWDUY4Q4wGfqSGMjFXk+dNkpK84bJcA823S78szvQ3K/4U7eqvjH1qvyIrhN5fsjdNpFeKEKnyneogvJLeexzHTfmO6+F7ykKl+vl8PhqNUAGU6uZSThVTvQttII7VXV9UpYGmK+eu43v/VGHFV7KBXw1Fq46Eyc7Cpg6Vzi7xMalYt4mNn0mROr7LOYccZCdpIsYYxN+ttTDJp9Mp2KcLRTpN0CnzcNKXCUVA1T/Pjqg5/yuYxAqAuvL+9/TDe01F+RRKkA/OSPqAyDtpzjsJcppkr5IRpghksFqnMQZHFXa7XS1GhyAn2DPwhKIj4/HYBjO/CNtB0Qa8COw2Ovk9VXyNrJBKjvMOWu4p+6hw1P86OOgmwh3EuYxC5zZssUgNJpsYkaZsPAFARaie4JzrdDp00ZsADkQ49/b2kJQ0mUwg31nrAXoFEMwGeIm2q+WuvDPt4HtB6azl0W8c+gdt1wOSQpDfuLJn3iRZdirH1VQn39JH2VDLDp+XyyWOmWPWM3PhNBcHPPX6+hqb4yjiVeVQl1PUL9pS7y86KykG4q8eoCYxj2w5+UjBF6UvucS1xGfye8UHr0QaMlUFGjGZlFHGCVqoAOrkmCXydTJUI8nUeFFRPkvz12TXlkS8vak+7XtB62eFvNOKLUze6aWGipXkzlXotGX3p5UMJrI0nICIY2HVBscC4CFxOKdmMpmYsNvJBh2XnaKyG6Un6+veR1CS1ol4IxkP9v2JvEcmwiYXmzK81Do2ZTGdyT5jUc5teqULYSfyURssmHq9DgXUhuw4Zhkza4QcFKF5JwfW80XkptzOwcKfzjn4TVepoeZ9SGKqnL5fAKpT8oCtuitt3trIbDeS8ZlJHRuOAw3nSPWMeCp/xRMgoH3YyWmMaTabnU4H1RZcOK8bF8D64Z5MgAypn+SI3GqnRRgjlvm+cJNNKFpIJV0z4hC/JuJ06r/KllSIK1tdBU1NZVL7SeFujMmyrNPpHBwcaBS+CGcRwWwqQvl6bPNQ/m2kzB19f5HQ8OHQmYi7m4Qnvfs4rhDxqhJtIt9THe52tKFQ3vxpPqldbROnGi+zIWhEIU7kkaIgZwpTFe4Ux4CLCQcUwZGECjaRuxSbj7nljTLaOcdddfoWVRJ4ELy+2iQZkrcYyXQYb/2obanyLTmbQnTe+JRomUb0VpZpxCBvbAkxmgbZic7IKtKVqR+8HKyhkKV8h3mUxqKoa5pQdhnsk/Y736JRVpOkoVQudZ2mrUjB/cBTWfm6kmWgbuRVT6nstn4ZyZptG7QtbaWB6bxG6DTS8kh8R2tSgZhqBWwMUNtsNtvttvo7qV3gRsh3BJAQHKKGADvdlhm8D156L56myDZaZS1tCNmIAT0M+1xFJYBuwkEr1fNb6Om7XZ2rGqBKp6KTbnl2OWJX6QZOV6ZI+ivgGNRxzoGDaha9D3a3DYkgiHDCA6oN1qw5rpzop4g4fdHsbDKA0RMq/31g8t7/UutnE3TqnfrZ3rTl5Z4Ic5C+cY2EcuUIO6+3YrwDu6qhqsHEL015udKawTOzLKvX69ioySQmbnzTsCoqiHCLnCkf56e8PJNDXZXP6dwpr9Ur189L9Otbmc1Kyk05ekQ2s+Ye/XUNUu+PthVbxHGqX5rQfRO2WattpCZUJNP1sboeCLssy2AecaebCQCliglMI8KJTcZOMqqcnALPzlbqJHwp28Av1wzLqqF7gBnc/KW/AFQ9oNvirJKN3RPd2DBtiX5WuawSI2KfkeCOKNXPIsmjeymhgHJLu+4GJl5x9txoNBqPx1mWITdUTSI23opzVLcc+YRWjcaN9Nb5ZUq/AFQX4vqGRhf4oPXrv/dEqx6+yYqyYeuF+jiNrM+8XN7bys6CSB+lDOW/3HpB9pbnORVQpH34EIJXrFMHxREfruxhNWG0+Y3mMYGKUBXCihNN7101GmsGahNBet+ENvxS55Lfrp9sXrBKs1F5t3NK2xaxNK4Wzh9XnXOOdWx4PVljHohGkuqaERMFRCI1kW8Be0MNb7wRv/LgeDQY/yKFfjQaWWupYqINP89QnnNbnAlrACvNOcfKOeoNVXZrNpZvqyRP5bDfhdJHrVkPv3DQyjvv8taHIdW6OBPaGDAtbuRQbkSMqm0UfY7UnihvyAhf1IzMvb09VFHkYV88I4ZtAO/kHg9gF3vrUF2MOKNk9yGnyUsINBV6Kby0C7ce5F1RZTNWLaHcBrefKav5O2zQvZLOjU1CRz4kAe3t7TEdUxVHynE984XZd4RIhBWTeMIp9IFXZDChzCf9ml6q2JHpLhYLJDFp6N9am/r2ybx1BxKrP1S2anNK79qQ796O9MmVL+I4/yK/bvHoVd/cH224cggUX073VDHNWU/RmQp6UzaZVRmNyIQUu3a73Wg0KN8JI30mSigOBgOc8qENi5g3W2uCs1ZVW2wvWWMh3QjcaFWTZ284L/dH1YUbtl09doVa/QA9tFUuWI6vtRa8M0tyOzBnyi/Ve68slu+iPprONyEIpZCHyOAMWUQy8RN2x5twTiHO6FBdWRUV8suIeRsZWzQmuuZGSgct+j79aee0qrX6fcWmuVSnWfWUNXrPmi/XtOzGN974k65+cEecRqA8z4jrV93yTGnLkpozJBeSjIoVZ69Dj0R+Hdiw8jYrO5+stUVRjEYjZOiZoC5bObVC6y9wXqC/4ugZyn2zGnMcmfXfvwv8MqVfUgzNZv4F7edd1JRIC7nx+lXX2CrXGHeRs5KHckRKTBXuYLRphNOHEjRO/EpsP3kqX51lWbvdPjo6gs/IWkvzSBkzuONkMun1etPpFF1woQo4dyfbYBKZ8tF1OoaqYPiym0lHz4ob9UbOsub7+6Zooqvr096or2yC0fVCPxXNu2Kryqu400jNnVT1ZPRI91oQx1b86mxwVi4dylf7YMLTpYUqtdAyycu99zhEBln0eBdzADg+VmwvKtbMFDHGsL69Kh4bYuttQTClVFKRciNuM66/YnVx3uh7/qsLFN+skTiRtrQJNCs5pSmDgwLRyVkFkcFOAnyhAIDQcdVTXdicmXJKAkj7gmd2u91ut4sqdt577OWwoQQ4jtmEVooaTC54MbUvlWOIBQZdlr/Ce8q588FdCk0gHfw1zOUuIvEulPaXVOKgd2ncVvwvnYltb4zeq/AlOnWjpopFMksAFGpA6iU1ZZbpJDuEG96jhtmQXwfbyEvlBR5+AM9lURSIcCJHxIkvFhxdKzJYUXYLqSZCLOZ5zjO7TJlrbDWYD4nODaf+F4mmdOuGpnO2yZV3IV18Pvixic7I7raiegKd3InhJOypIiWXjRa2vOHdhKOLlZ+1Wi1sgbfBkUTpnIUj6lDWYTgcDodDiHi2gS4FL24yHU/NENW+R8L9Rh3s7cr3zWf/Ic5IUCa37V0kRUl0gfISymsyPFUlCV/gUr3xpqwDpBoFP6tEJvng0tIMZQhf+J5ccMJzAyeOKFbjiS2kdmFFB0UzNEMUfUwP7Kqc063E972iYisYxBsGbiepd96sytsjtTUCkAvFlQC7rLyhJ0IncjSJ4wig+i/TO9TBzu7ouOV5zuxPuq5M2EJkg1fBBgsJ8t2KHUbl2EnKiPq8yES55tnaiCoF4ztOlQip4KAbIume+r8tjjlVKtmNiHX9kOd5o9FQsa7Gr6KT0FcWq0xUGwAHEADaarWYAOpDwjzkO5pnrcUJXb1eDzmgXA9UjmmWmbIXyYqLlNow1+otRq+S7hvZlbJ0VcurddBN3rH5u+9Oax7rJZipIltxCcplg6WKchd878qN+ISsXGfeCHNSWMBCb7fbsJBgCfEUzb29PUSVrLWLxeL6+rrX6/X7fbVsonw/I/tDjEiMys9Re6KhqxzPNUN943TcnaIJXYPXnMtXJ+AuIItuT58WKRXp7emv69tDh1EuB8cQnZSYEO7cHmQSx5NJZL2TnHbeFeGG19dqNcbfsywD74SjB+53mPaz2ez6+hqHyOh6oI2vGrAPASdGlXDIdqQEu7JLYT29dXRGtL7lP++LRz+9OPYq2+rl7McNX5O6VNfwwjUNTRVQEwaUUxvBizNnQ3CcJ2yocGf1BP3SlQNsVipx4hu15WGqHx0dAaAmnOVKKwdnIMEDilOKz8/PcQ3eomprFg6X9yG7FF4nPG25XOZ5rltBrDihIharI8/BqRxefq99XDMdd6SIhZlk9snX8q1adgvmumE/t1J8OfqAl/JOV7WRCLxTJbsL2z9MwJ+yLqLBOQdAKF69FNh2wdZuBtL3IsxDqZ1lGZzzp6enCMFzwdvEgUAtVlOVs/J2U5Mc6KGjXTmkD4O/9bQVhFb6Qe9DlVxFm/NOI1wNEw+LB/ayldxWziLEK1VPwiWXY5BMCI4bqQzKN0ZKIb7k88E+ab/zSmTdA7vceTybzUaj0dnZGTKYmDhCLVnXCcUaAUrcs8pDpGmoGNx2ClJ2+2B0sw76XpA21QWXZy5HxqgCin/BO2m2E9ZWHDScfl/e/UPTxydHapC9mSDfoT9gMcD9CQhqjimO7+j3+6PRSOFlhDuyR7CfUvEHlsk0vEr5uKGpdOMgvwu0G4DekeNucjuv8SFclMvpLUZqahJ83D7BdE/Fn0m0N6oHRXn3um5459ut1GhA/Xmyyb29vel0OplMyBRR0hsbOM/Pz6+vr+GWirzuKsGLFcXnwZUzKRTKjqy3O29N2owHoKgXpYJpt6P1Td8EfGsuSHmDLR9VGOlwXo7BpdmeJbn0ykFdSKn05S1HWSiPSM7qhZzkN8H9CSc8UIsAEqAJ0c/zYS8uLuCfpzHE9rOdqZhW/u0lkdmJ/Y4LKlPr31+qTlimlNxJPysxuma5cxqi64lOZHiop13jRhDiuCbaZOyS0DyRyvdq35HhQZjqyIDAWff393HOO9TK2Wy2WCyYZgr2ieyQq6urfr9vgkaRZRmjoJoxbYxR+OrgQPpPJhPdz2lEAY0GTaXE+jnSWyp/uieK1mH0ayl/7F7bcQvSGeLnNFNJbRryIUWnhmcUmnwRZ1Ehgu+55ZymfZRtlOd5p9NhhNN7Dx+nC/n89Xod8r3f75+dnY3HYzwZeUzabKYycS1F3ScK+XZqotqddIVvxWgengGveZ2rvGiH/Yl+VVG16nq6Tpy4rMGTms0mrBBcTJNczfMsHB6sW+Eq9U7Oq7JetA3aLTQ8SGdVXimIZ7NZt9vd399nCCDLsslkAhyjTAj88xDu5+fn3FOPdwGIgLIus9lsBm+/MQae+Uaj4cPB8U7q2VpJJjSS9GQkN08pQvODUTT1+i/bkzZs5Xnx97SGNtEcOO76JRCQujxVuSSzJCid+IwqxXrU2Wi8TBIUAEG/XC6XUDFxCCcQQ76I6/FlURSj0Qj5dU68m7wGILbBHYuH6AnHGnGFCgENoQiVdkxZTK9nASkO/D27mW4Np5UAvVeq1EpT4kBDZHODkbIxW/bJU+1D4JtOJb6OCqu2RNPaU6mqzcYHKJRFUbRaraOjo2azaYJ9DeFOqOV5juD7YDDo9Xrj8RgqqZEAlbqisrAjz4RazEU4sIaCez6fo+ID3K6MSEUDG3HWTUa7kjW8RfIsv/hOEbksmQcnT0WzskArmciEspFcpKJcaDMCKC1iW/aQV4oeeiKNMa1WixaSMQb74NAS7uqE+xP7333IgNYKtOgg1BIAkQ0womVCzSjC5nqyWCMH0xDE6erahG5xy33T2wHoegHED17M9ihTSdlnFkjd8hTlKs1deWemEqGP91IJ1m09OutAJH0FzFSC3CcXz/N8Mplgf9xwOESFBTJ1L3uj1fJjG6iRE3MEqAuhVMJX0Rm5USsH+SGxuKHMVEJHHhqg61vJISafy0KmksYwFXYEaF7eOmxEB1DyUv2QFKmkGt1WfqbSc7lc8nwZJ5GnaJ+TMQbhzaurq+l0CrvHlnVfes0yyXHWl1rx8hZFMR6PeV63CaqFk8T79Toou7DFtD0URc1+t0S8Ns6HQI465BWUykedxAmV0TJ6hGem6gGnPwultSPJ6MueHeoJaGqn03n06FGr1WJgyRjDvCQ0bD6fDwaDi4uL4XDIBKhIi1AhwDagAcxZcVJVDwfWkPsy6UQNJu3ye0o3cFC7O0f9hq3he30wjFIPkWLUlfdFUAGlf1RtDtXqjLi1+S7tOKiQ/ZMm5H+YkGuHBBQUsWHIHhYPHwIpDAtJdx4bgQ5BCYBqDp5P9s1pgArQNIlSRJVgJ3Nx64eseua2tBsOeqOGkf4aMSp+IGKwAY3T6ZK0NHId4BIJl/SGEmQ2iRU58cO78pY0I35Elfu8ppCt9yxOC6zAW0mrHE9D8Tokz+NLFzzwzO+EBw3agg1eBX2jk51JjBd4UVJ9KOigT1ZpEEFtFfJ2znE3xyWVE84IOrsbP+gt1octWx78bMuJIGoJWTnrNoJpVCNE36KDzufg30IqH1Ver3zUlJUEWGO5ZKiYEDig7Pbe44jY4XAIi5vLjKKc3gbqCVHmlBG1G21GJkoR9uZrm6MbKwH3YOhcQ5sDZjsOuoZTrlEJtoWv5iBzRjM511WhSdVTtU9bzr4zoh6QfUbcxYvxZMs6qBFllMpDp9Ph/jgjzqBMsgKKogD7pE1jy/YZJDuzrrIsm06nZJ9kJMpBWShP2aSOHkX8VoCLluWDqXbraZ0OuuqGzS9bA9mIVPhmodisLZNezMuyclKI2uwuiR6BlFvrBfT+RNwosvdxWb1e5wnbJmwsRmaJD75b59xkMkH2pxdL3JY9rAQo1Fl6jopy0qcN9W91J0nkgTIJB92cIkA/JDfVl0bidGuAbkKRvF5/GcHBJkZ73zipvABE731agoF/KyVdIXukIuymSqcV5yhvyfO81WqxPJgRPzm8SNQyp9PpYDCAfGevaWvzXVnIZfGhUrgtb5SzQePEr4S7cn0C9I4W0n1T2jb9JgKM935lwnL0oBuX1O2Eu6K5MmKkWqMV4z1yfGbl6gZkVGy5glL/EiV6vU5zxJmwhLrdLqJHWchoJq+lb8F7Dw8ojpBD7Ee7TGyBiXJFRZxMeT9apVEoG46PZwsV1usHP52LFB+3eM7dSVGxEQfdpIl3XLUuBFRUj1R9zojjiWoA/dsuSRxRnc+Kx7GyX7bsVPIS/KQtwgc2m83Dw0OW97bWMsMIr8CaKYoC24u5eUPZM9uQhdwr3MLWpnwFrZpOp9PplAY74vLKPm/NQfmWh0ckSVv+s4hf1ZkNOeuaLzdpirJGyGsrYl0/eCkBRw6qKUuZ5C/bkMdJM8sE3qZzH3FQNdh90IkBL94CrRfap/I2U04qzbIMacU4Al5VamUPdGpipbFJUBhAXB7QSlHRCUsCRcShWtAnmgYUNgHc2wLleoXwFw5aqa6ZtchbpTqsuiX9nkvWhWQlK8YNIytFyMWkJQSrgl7PXKrOetkqqW9RIHI4+CWbYeTYGgKIP3nvG43G/v4+8LQXTioysv8Y7UHVBlQIM+L7pM4KbZL9arVa4MRsdhGO52JGiA+JdkiY4nFeJuQ9+WBFVQ54JVgrcelXeE8rSfn9KhjoaKd1zqLlzSwIfJ+rvqIiL7rfCFOpbMSqb/SBEabZMrrc1QxXYBGdIN3Iwbv0LbSE+BNVNL49krlqauhA65Nt2EPM+LsJbp0iHMLJt6DAIkrUanhJxxO3RJuVi/KmomgV0U7yZc+XJo8+JBXlEnyVyOFA8a6IX6660fAgrwhAUT8r15Pesp7R2iq/Gr/M5BAjV5UOAp7EZFBNnaTEN+XKSnxFiolURIBoFFf28efVnOeovqQZfSZwRDIAgAz5ddhypD4vL/Y7PiNg5iUapKuXZqIPhjzWgx6YFH2IBn/V1Ky6YBPGWXl9BCSb2KmVvDb6l4gCxSKeLV41W9taiBFXTvkxg0bshhOysoczL29/y2QnsRHW7sqBdVOFDB0OXWMRu3USlvTe52HPiQvV5ukzYnIxnoD6dTjgEApo1Cpdnzjvq5BqOeoB1YwCyHf8Co+p8u+I9W5I0URvi04OETmRLniObeVjOSlRs/Hvz2O+asE5ibjoFN64KNMWmPIa0nfl5TPdbBD3aiQBmjbsaCPXVANIkUd2xXel4jsCpYqndLxM0AEajUa73dbD3yOBy9bCwUQFVJe9toHPxFZ6IM8YA9uc17hQ9hZVw/Xozoj3RAUdKucipa3mNL2XvEYbzM2GRrhS9EadhVXtzFHRSlFYyYT1fn3Nhq2PFooNDupUm4x4pMIxC+ciRABN+eIqsRX1VPkrmZ9OsBfa29tDeJMsDSVoAKZCkkt8CMGnEU59u3OuXq9DYVCpRbe/E98F+CXdAjr3XvJFIhF/a9htRdFb1P+gU3NjwyIegQ95u932EkPT6Flla3xZp+QHbUcqRqPPNhwAtyfHxFQCVMOYkfbJiXfi4o6keTo6qTTwZaWwkA2lqhQi4QgAdSHqM51O4eghkrz32P/e6/VQWNkkTB2Pdc5hx4i1FhDHleCdHFV2cD6f43V8VKSJ6q4Pdvy+MZqFHdhZlqEAFgqkUavWi33ZGF1FyhfyZrNZlAn91NwtvcGsVk8rUaurQZeIBo2s6J1WYpVqttOtYxMllU/mr5xsVw4DRoxHG2mCK7SQc2fYcucc3J/YHOycQ51O+H3wDZxfzrnpdIoQfBEK5hhRT8kOsnBmjZPiC8YYCnodW8wIaoahkbrfIwsn0Sg6lY+ske93JOrNjUbjxYsXh4eH2GCNDEM0eBVTM2V+oV8WIasrz6Vshi+bhMpZOUYRUtMWR4NCFYr+CI1SurJfKZfySZTvajK7cq14HwxnK9auKe89YlOjAdI1xmsIIz2LyHvfarUeP36M5HnyjNlsNpvNcAHfuFwuAVDsjucqKkJSswnr03vfbDaZUTqbzWyIL6AZRfDIsiwPOKi1Fu9VllyEgKcT6yQSICpSlLblsnp9EdJVW63WJ5988umnn06n0+vr68vLy8vLy16vd3FxMR6PIQFcKGdJGWKMwVrV2VQZnjcaDXJNzjQnhqA0olvoIyKwpsxVkxuITg3DWDGMcIsLleuQ45NLNZhM4vJZefdwNPoKL0VnStr+6DmESKvV6na7nU6HRWh5vhF7R+xiCzwAp2vGlFcvUqLa7bYLXncSRxJjZYKXHhVvIgcTp0/7vmo6Vo3AVhjVwUS/EGs4ODg4OjpyzjUajfl8fnV1dXFxcXZ2dnp6enl5CaUc+YQuFJ5gszUe4UJRS0OA8jxJvls1G2UwEUZ5SxEcLtp6le+R6aNT5cSFSae9apy5ZPVyXBRJ+sGXjcoUmqu4iBfNFcyMWyyQvgSHJU+WobFCvo7vmcFEbZVDykGz1mJPPSoyc5TQYHJc4rsoislkwgn2CVUqButBti3jjG7nZ+cc8hOgoHc6nRcvXjQajX6/D1l/cXEBVvr69WucHoGVxsNwdamTM2KUcmyEVcyCGO1dBdCIOVUC1JShQxB479UYUoUyC1s4tEKYyko+J+J5KVijxkRSL7rSrTg4EH5KHG0YyZYi2EbULqIdSC4c9BGxT9zV6XQODg54ME0ki4hOvAXH1uDkmjTaZIIuqLCzid5Z2ffbkQqZLMuazSb2DzrnDg4ODg8PnXP1er3T6bx588Z7//TpU+fccDg8Pz8/Pj4+Ozs7OTm5uroCF4A4UuJiy2u1WsQOfYia+CoRT2WAY80ncnxTWBiRuaasSmZCeai2ReFO5Lmym82UjZ4UpkXZ4cJ2uhURo6idfFej0Tg6Onr06FGz2bTBrmdCuwshSn7mAYepyqESjU4rWF0+SHA6DVwoIunDucj9fp9bR3SyirL9rutwExTeHal5njcajYODA+RkdTqdPM/Pz8+5U6DdbhO7BwcHL168uL6+7vf7p6enQOrFxcVsNoNwiJZZjpJUvqzQKOzWc1D9YKp0PnzmbPGzinuik5s9bMgqoLKijMGVN9CZMp/W95pE+WNfdAoJHfJ4oBDs8+DgoNvtIuMd3+NwGWNMlmWUrWgMDvGAg4nNc+UTE51zUGpZmdGXvZiqObhQ83s0GuFcJWUEXuKfXvSEDYF4a3TyFVjD+/v73W6XyWVFUdRqNfDFLMueP3/e6XRGo5ExZn9/fzabXV1dHRwcfPDBB9gSc3V19ebNm8vLy6urq6urK6Z4e+9LAPVBlSHsUhHvy5Y+uWkq9PUvqZDzUzQspHon2RLHQtkkvsnKyXU63JXskP/axIBQuJtglmIcms3m/v5+p9PREsmTyQRA0QZQxONXK/n5fKkNJmqWZayJh8emqR5WCkstFovxeDwej7Ew0nHmIonkSSVSd0LRmC8Wi6urK0Dz+Ph4Pp9jPcPbsLe3N5lM8P3R0dH+/v5yuTw8POx2u4vFYjAYvH79+vPPPz87Ozs+Pn758uXLly+n0ymeX4okFaEutRd/srqZVBNQVmrKp6bqWKtqq1DTZLk8HG+gviSdYyPCXVkjUZUOnJMjjoy4kJSR619cRt0cbYAdA5kFNyTyheEx8aKAssYixDQZiSmvNDx/b2+v3W4D93nIzSMZUYFgeMH1DQ5KSz8S8ZVr0t/NElpF0St6vZ73fjweP3v27NGjRycnJ0+ePDk6OsqyDEflPn36lDDL83x/f38ymYzHYzjvPvnkk48++ujrr7/udrsHBweLxeLk5GQ4HKLxeaPRULWyEJ8FEFMJx6Icw4i4qREBpIj3IbkTISKV8rSTNIyZjjXhVYR0SR+KfumvXvQwQkQ5mRW7hG3L85zJR/P5vNVqYZWDfUJDAkwhwVHUDjei5VAWGQoqQooJVFKOQ7vdRskx9hFu/whnWLp4I85F9pKVQo5AV7kuXbNBaHErUqzrCOO94/H41atXJycnWNLdbvfx48fdbhcD2Ov1cFJUp9Npt9uDweDq6mo8HjvnkNsAjwdMzJOTE1RZ+3lss5CrxonPpAJgqm5yXOivXoVgBSU7ZmTrJjWtlFQ4EsfkoIp1nQn9oBhVbmolJVanzYWa3BDTtVrt8ePHz549azabPkhh6JcMNupzQMuwJ5geKC/aOZCEkCkmxoUsEFiyGFtKFQQywLNRgUzDRXxmqh7cB+NMlSV+sNayIuRoNLq8vKzX60Dq/v4+TEx4kZvN5vX1NQIcR0dHh4eHw+Hw+PgYeEWI+Pz8fDabUd0qncrjZUMWV2qk9Ci79aL9RMorJ6YoR1AouDPZ5qbQVPapX6poNqJm6axEn60EHZTBcGSBDx887epm6nQ6T548gRsIQhbynfVpfSj6nIWtGl586eTrKuWB7GazeXBwALXBh9NmlX1mEmmzwXXFzXfKBcyKuKiOwCqk7grBDH254HCAEdnr9U5PT621R0dHT58+3d/ff/LkyaNHj8hKl8vl2dnZ9fU16kyhI8hh0EH7JWyosNNORh9sufqKLdu/fIKC1ZYz32xZeY9gytvJgfhqKh56i04JsWvKeDViPXgp76E/ueAJLooiz3PEeBCBJIZ4Ogd99Rp0KIoCfM6UwwQ6XLVa7fDwEDVvlcWqaNZW4S3j8XgwGIzH42VIk0jHObrxwcjKBuhC0hjopjw9PT0+PjbGHBwcPH78GDB9/vw5qvrX6/UibJUZjUbHx8fIUeQCyxljZFVpchqyFuWgnEgrIWMrWw446ApQU0aMClwrcUIncZcIgkRVyjVtYpjzp2jyTDC2jPi/2CQXqhXjQHmwRuiUXhQVgAafsyzD9k6oUDDhXUhr0gYXwXh/9OgRdzVpnD3l7vgeDiY4/4lLFVO8N+WXOwerT5QHK1YmVEkf6vnAm+FDOku/3+/3+99//329Xn/06BFg+uzZs1ar1W63rbWo4R+pMaWMemUz/D4aDmVsysAUW6bsk9IvifKIgelzUgbJuyIeE4E1XQl8I5sdDbECiK1FErG1FpjgtjgIXGiZeAvsJ4hj/oRnLsNZckXILIFLdX9/n1uWnXMwvDSp1IU0Lkw5aosiN0p7V4iPJcXNGroLatN7vexqRMf39vY+/vjjdruN8OZwOORlWLfD4XAymZycnHz33XcwpJ4+fXp4ePjDDz/0ej106hcdlLaOLSeq8fVK+JJWFC0qvZgo4aqKOmPK2iF7Hhnjik5tlU+koV+hitiy3qlTy5cqD6ZkyEJqH+xxK/uAVdb7sM3SBDuMDnN9bBFyF7WeKLELWBPZLrg4yISurq5OT09RXlRHuJB8/krobIiwu5DyMqoxh4eH//qv//rP//zP33zzzb//+7//+c9/JoipBhRFMZ1OZ7PZYDA4Pj7+5ptvDg4Orq6uLi8v6QPBk/O9vT0E7lzZxciLlAVSzqasKJOjg0wSeTcyW0bOrNCugqgT003ty+LbB9ltJQ2era3k7hFGAReNdKsigTRk5jFQTrFEApChaU2FkLbEBYc/uCyc8zxQHr/iCUB2FlK281DyCZl7l5eXSM4vgnPNiIXqy4rNHRmkL2tE6y9O58U59/Tp03/7t3/7l3/5lzdv3nzzzTd/+ctfxuOxtZbuNhfSL11I45pOp4DmYrEgkPDkX04aMOF0FRPkNeN1Rcjes5KuZ0U7pjmsk2TE3NFvfFmdIHBtOYPOCGp94uxU9KfPJ/IiNcAIiJdyAidlCrrsg4UOUY41DbiggzC6nXOQ7Gw/fChw/epb8jx//Pgx8n2wQUC9H0vJSGTWMxozGAzOz88RJHTh3CYuEt7IPkajV4k/DmmKuQ3RSUT6kNuA4cL3f/jDH549e5Zl2U8//fTq1Sv47IwxOPlJmZTKRoyDCW4BtiRXIRiZ2MREIZnhihIV2UqKFe2Vdswk8l2teF2dyt5cORtXgVv5ZG0JYaTN1m+4wJi3AfzZchYtdUHODZRUgEZHAIOe53m73X727BmNd84EGbMmHjDYi8y9wWCAyKpiSJ16EW7SzyltziZvfAI6SJbfbrd/85vffPTRR9baL7/88vvvv3chD0FTLNJ2rmrSLzV/eQPniZqvE0c31TLlVfoQtZZSIBrZlUYGYGQvPJe4LgknZ2xGqK0kK3lDpuzuoXzhk9kRXo/Y93K57Ha7virVMgp36Yc8FAmzYftbq9V6+vQpIitgrlSoAM1lqD0G9gmAIiiFvHRybg0jRYk/6xG5yQWbk4KJ3gbnXL1e/+ijj7744otmszmbzf7617+enZ3ZULvKVOmsXPyF+CL0XT8H95T5m0Rp43SaoA8Qecp7IrZa2SUyHid+bJPwYAVoIX5WIwaQE/9X1Pl0HE0ZjuktOtPLUAIJXiRYRXxIFnb5ocvID4TAotuIj202m48fP37+/DnqkRhhOZg57isCQOF+KooC+XXn5+eDwUCDJibJkdiKdghTI1KR2Pj8888/+eSTLMv+3//7fz/88ANLRxlx5JmypoeFWiQOQcNQpxO/oIKAUCOPjBYrJ7gQc74QH74JKoXinuuBLJNPo5SPbuFbooWkPeEKIUuOWCPuYv2j9AkchOVyORwO4XpEZir0J+JPGTmLLMOlb4JFXxRFq9V69uwZtpIh9ZOKLwCNMCb3Eilwx+MxrNrxeMxJpeBK5XskBB6MVP1rt9v/8A//cHh4OBqNvvzyy+PjY8R+4Y03AgZfZTlUdiTn1liQC3FIXq1MzkjmvLbSlt1G+isDPz4kOvBfV47osAERqvQWn+j4kUZhV9sBKVh5TboeJpMJ8jN42juYqOZ+56F8rhMXKQ3Kbrf79OlTJPgwsMnlUYRdmkwuYQjeGANPAs7uxi1R9Ei9S28FlxF577Ms29/ff/HihXNuPB6fnp4ul0tsaIFMyMLW0+jGyLA2ZfzkUcptIfmaRpBH+ajs1pTjipHEVH5pysh2ZUc9H6KPVUQq+lN+zOcoF4wgzodr13iNutVsSJunjzML2/NpsKMvLLKHcYO5g6MQu93uixcvnj17tr+/j9IM+JVpELNA8Lzkss0V+99xuhIASpnuyxUMtHeRIbEdvranaIQxoZPJ5Kuvvjo6OoLL4k9/+lOn00EuCHUkU+aXqSiIKP/d736HfaIYLMwKEU3dX2HBlkWfta0KCO0GPxtZKNRHMfr0Yyv/VpEdSQcjjFYx6hNRni5fI2uPv5LfF5LVViReXhM4hzEGucxFUSCO9+GHHz558oQBfTBgFLeBJorEKJjnNhRIo+WEoxOxE5Krgs24cVLvj1K55JyjE7ff7//nf/7n999///z584ODgy+++OK3v/1tv98/Pj5+/fr1Tz/9dHZ2pkxUJ8usSKLI//7v/x75MtgxOJlMsCkR6bHIh3DlMCYGtKgKmViphLFK7SVDZT6BCaZ9FuqBAR/KO1kfIRojuHZNlZiO5Hg0yl5Ojy3EaboMSXF74aTN+XyOTQjYYEh2iF3tSGxleOn58+cffPDBhx9+2Ol0XHBnFmFLO9K0YaFTZ2X6kjEGPGI4HF5cXDCssixvwmFQVFHiNzbn70LKU4y4QqHhjEajv/3tb99//32tVvvggw9evHjxxRdffPbZZ7///e8vLy9fvXr15z//+a9//etgMGAcpCjvKYom0RiTP3r0CNexVAZ2NWCnyOXlJaLAWSjGXqvVIKp8ef+aScS9mk2FuEsj0WzK+0CUlGXasrJhy44kUjRJyst5LybYln0IXIT4gPxFjCNz3b3ouFxdsHiKouh2u5988kmtVjs6OkJBIR5YiGHJQ4mUQuqCsHAfsA7Oenl5eX5+jtqiXqgobxB/YLEeEdHpxXrjahwMBt9+++1//dd/tdvtjz766I9//OOnn37qnPvxxx8BnqIqhYCP4jf5dDrNpfJRq9UywUrAVtd+v49C69wONh6Ph8Mhsx4jY5xQwKwz00JFP1+P7wkUZcNGBIoLflD9N5UINjEP+Uzl9EaUCl0MlAkA6NHRETgo1T4wvOvra6xYODVNOM4efngfNhFgnfNddJ16CZC6sIMAMLXWYnfH5eXlyckJ7Peo8as8Muvp/uAbTagPgTews+vraySG/u///m+9XodFCF3IhsoDEShjEU82a0IkAz8gKfrRo0fAJcMeqCqI1KnBYIDZog5HB7INkQMrSmohMVJ6p03Q8V3ItzBl5wUBFPFFI9w0mgNbpaTiAxaMZhU6OafVWgtn5MHBAZJB4QZCliecTVB7cPgizvqAPoB7cQuWN70WbJXGnMA+I/kO7wE2N8InoBi9Re7SfZNKJyPKBrxDbPBisRgOhxg9KEtG4mFrnp9HzA/wgmJHDxSqlgG73PwwGo16vR5OmQbHZe43uM4ilGGPFAC0KQ+HWvDtuABJGCZZ9GR1JjFuKhlndCW/dxK/tWWTzlqLnR5Pnz59/vx5nueoBk88wcfebDZZyiEPpZ/RbHQcCj3j5iYoPC4E0xVzrPJnAkBRLobRI15M7dOUNZlIhmyOrZ1QxAs4ESwIgmUJRQhrm+rKemiCchiVXlJj4HxWXm0kSxesrtVqYevCBx98gMmDqgqW3uv1BoMBzIt2u829jtorbow0InB9lRtIP6jKq4Ke10RMKxpHyF+uQxfKGtqgMcMtj21cnHgneyxR3aXdbqMqoAmp40jJgeuURcV4OyXMQkorgli/1xgD8YfCG6p92hAPZEaFT/xomwBoh5RqdPi3kDi2CWFhtp+SM11vq5SWnOFmraliQ76tl8IVZFSKGNTDNsagziV0LxRpwT7uLMugEmDTAtgtu8Qnqy6oUluFuBdDG7O+lF1EeotNMvF4AeweYwwGDoIYhTGw8FDseLFYwEMEvCIOBKc9kzngJIJJjruwN4PTlskJXWgzFXd8D3SaIFgglN68eQM7F5PK7ixCiZgIJamGo/19GPKJDwHrGW1GT9F4K+e3mBVxH6WfZRNmQmWKkVo39BVDtTflPCZmbULSdTqdbrdLtKFKkfd+PB6fnZ29efOm1+vB4YJ0Mrj6bHBWFyFJReWFkcquyk2VXzqpQmPLSndkDGXhhE8fgludTgcy/fDwED3y3ne7XWPMwcFBlmVwsEMQ+2Ceo9noYKvVQlWm0WjExDN6zeiEAmfFDLF+L5gCcpcuLy9RB4b8gv2C4W82ix49GDo51BHI0Nksy+r1OpJZTTA20C+aiTfooMfHx+12G1OCISMssAKYsQsfvg/BDAWuMcY5R8XLGIPwK3RNTG23233y5MkXX3zBQuswuVCkr9frQXnFUoMe7b1vNBrX19dIocAssuAyJSD+LWQ3GfVLLlle7JxDyvDz58+dc9jq+vjx448++gh7ho6OjsDekCySyRlZJrhdmSeK/qLIPNAGL0ej0QCvxaBxxz0ehS6gZCGWN82jV69e9ft9I5VaOOYQPnTeEYKp/r3qyzUg0xs3vAvNW/MrQxi0vNkwSnmTlNiIKP+P//gP7DPsdruInELHwvBhKPFcHse7DJUwqElwCwQ1DA4rGDM9KZSY0JpNOE8IlsHV1VWWZdPp9OzsDIm6qG4AKAMB1LhNSFLhPjUrMVXNxl+GHFjyKmD38PAwy7KjoyO6LKBnw9cLLrsMZxiziguhCddbo9GYTqd7e3soOIhreHoxfCCAI7ULVWbgyYKoQTEtsGQrHtxF2Jdsqsy+uzNLFdCbA7SSoiekTyM0C/EtrnlgjlDpmzdvYKr7cFoAIIsCGGAGJiidxCKGDGAtJMcb3wDH0DuNMfDFMOVR/Vnw5YLtX11d4eGz2ez09PS777579erV+fk5wAQnDh1DP/chz7k/nXpqEVyVJjitnFRJ8N6/efMGiibWYa/XOz8/R2zdGPPo0aNGo3F1dQV1hRzdWgsmilUBX8Tp6Wmv13vy5MnTp09/+uknwN2EvNLJZIKxhRPAlBNb0Wvv/XA4fPPmzcXFhS+feYcVxWoRq2CxBYjCLRS7bAyRuiFMN3kvV5RqAporeANAMWRwD5HNGGNQAAP18lDABIaCtRZQg/gzwaEAhWweTrZkRAHhkHkgWCTdbvf6+tqIgWyCWonEHwjZ3/3ud//4j/84n88vLy+Pj48hjhE4gCOW4gMeLmstEAaMogQShDWGnrt/jDHj8fji4gJyHEIDthEKB8BJDi8Ezkba39+ndg85QB9+q9VCI5vNpsaKCL5osxG4O2L0mC0IDRQy8GVvfCHFcs0umFwEi/Wqwq0fW/k9lwHtP/2y8sacziNCk5IaztXj4+Msy5rNJkqXwO2H4ynoC3ShaDe9mHjmbDZ79OgRsiLoiIE1AI4C0Q9OA1MDSjQcOqi8h4z058+fg/mNRqPz8/Ozs7Ner4e7lsvleDwG4rGhZxk2DKFAF1VSqHqw3Lm5AvrDYrF49uyZtfbJkye1Wg0LwHt/enqKh/T7feoDWTgXHgIaFtJoNHJhlxJCbi5ULndhryZWDr5BTN8Ys1gszs/Pf/jhh36/D2a/kOOX5qHaoxUvSjr9lS6LW8BrJ9bVesyp8nrjYst9cAQa0d7AhMAe4DGGgUlWhzPTYbAjowxyLQ8nboFJYEoQAIRERp0M7DfNA1EU9vt9MLN6vX5xcQHPDjgxvtzf33/06NGTJ09+85vfICqIrAvAjgVqFlJMpigKFGLgUcow5rDzHZolbry6ukJJxEajgRIg0I+LopjNZv1+HyFm8Hg9rtMYk+c5dFBcDEa7lPRknTnaoPP5HMmmZ2dnr1+/xrkLylfUcwLahINuC7L0mRu+BVCLXuerjHojbvwiCdWuedfPKeKZnGFQhG2yPpjA1ORot47H416v50LxUpxgiRIRiAFC1DYaDbJVHzJ82+32crl89OgRAQQVDVIV2id4hprJGBG4BTqdji3XUCjCQWw8vxWhcKi/1H2BePQL0Ee0FuxwFo6HOzw8hJkI+Q6sg0dCCGA0UAMMrwb/9rLrgzijLkSe6oWWy+VgMEA97IWQCcKd7kNTTn6NsFL5/YZUiY8NdYlNHF7Rc9StfuPzc/WhFBJDNzKgUIAyKYpkgiaAam9XV1dQHFExBhhtNBqHh4edTgcMKQslF/EK5PtAF0GlLkQIgTCwDXorsRJwexbqzGAVUaeBGYSjM+Dc4UybABQyUSsHNR0dHR0cHGD3BUw6JNI/efIECwb6BpYWs5J7vd7Z2dlgMIAG0ul0sL/WWovwbx4KRsPqwopi3I5G3tnZ2U8//cTUEBV/RUiC5gQ5SV8yZVzeXTqnt+9K340spPWOz4hyOjX4LLCTLJxsPpejzfJQ7NOGM1I5iHgO4yg2ZF0cHh5Cf6UKiznj+TJ0m0NlhHtyETL6GGOk5YvIDSMIRkLbXEKw2yhQ2CMfPET0qkI4HB0dLULtz36/j0Pirq+vUYRtb2+Pvl5kec5ms06n8/r165OTk/l8/vLly06ns7+/j5bQOQVPk1pIPjibYUvBt//y5Uv4LrjyaWIqOnWO1kjVW8NUIU7xvf56vZifjUhzW86KtOI727BV+Wg0AgJoJNqwfZbvU65ppHQo5Q5dPAyW+lAwG2olEn8agaDCQuaC3QKsUFvxGeoBzBEQXfHRX/QEHBRo0Lb5kPsMUPb7fdocvAvaCB4FmY4EeB/KoIJ5M8jpQ6VgyBAcXjEYDOr1OsxBVtqHQs9WGdn8DtsOtdmhlpiwlZ7uMLpjNofdXVgpIb4V41x1MZuhJpEmOWxC+eXlJXfDWCk0Bz+fOsAXIblJBb2VDSFKmVTBhaYII5fPt9ai0DCKwBOsToos45s8HCSggSJMpFqL5KO4DIov3piH4v4+hNrgTAWZoMNA6USrrq6uBoMBVhf0E2QdYOFBbmDJwT2HV8CfZUIOvAu5zMwdIY8vigLb3l+9esWMMOo8PjjnNbq7FWJugVHlQWat4VL5a/TS6LPq3MVNCSJKea/Xy6RQfB4OZzeyz9DJRniih21yIZuYo0/zdikbjGzIeMCLi6JANV4YLjgpC2YWVwtTLaHd+vJhN1lI8jdidpB/z8JhgVkgdKTdbi9CfRsnuXZOMqpgh3nvEZWlesNYJZ6GItZHR0e1Wg1xL7pj2XK0DYclYMnBSzWfz5HJi8g7xwSkXohIAduJUmjuoAmsoXRhRGqAr6qZsJ5yDCh5G00HAIv/KsgyKbul6oHqCeSgVorFERYuZPTBQ4RUVpQzhZkFKwo2FmTlYDBQTg/iiHD1c3ksQ+XfZdj3A2Zcr9cPDg5g7jCk7kN1IRcO9oP3FGaNDyXA0Vn64NrtNvIH4LKAL5bajrYNXbbWQr3x3o9Go9evX//44484x9JLQhk+zMNRTMrYtLOV9DCagNkgpJl+ua32Cco1QYbjaOVc1zwcFgOaTCa5HOdKxunFV2WDL9oknhErfit9ozEG1aB7vR5sC6CHdWMeP36MmfOS58tXcBY5BJCtMKSyUIrWWot0k263O5/P4YKAvOY6ZCCt2Wzy0Blcifx5YwwtoTzsGkAsA6qz9x4iG3zUhUNLOE8o5gYbixt0FKCMx0YzvWZ2N0GbLSuFO2HGKQor/70d+zTG5HQOR8S5V+ZKWQm1jOwKc7AIW/WiG215Y0aWZYvFgh4ismEneWVsxmQyefXqFVIFoB3CG8AIFtvmyluHs/JRIT6YxtfX10gnsOEoHOXHuHcZdqBzIyFsNY41fnLh1NTJZNJsNp8+fXp2djYajRADo6ihfw0cERUVT05OkBfCvBPafIzHRsJ9zSzeiM7oAnY2gux9EBcD1eutbv9FxCtHhMFLDodL1cQhpAhc6FtOTkGg9OeXNiimmCe+ZS9sGTNVxSPQN3goh8Mh1ACorYh9q6LMIQBKeAQCncPOOcS74bqHg5MbrMlEoQXO5EguCHoTNr1g8WBNeu+RCco8KTZDhwJfIgcAOTrkl2DkPthGdM5TjVFBvy1VwjeFLD5s+Ir0Mp8YSRH71GGJXr3mpTmMAIpmhaArm+f4RlUCvRICl1gkV1MhSLZqyse0KThMQDkdTyYYW5g/HPPI6GW73Ubgiu0swsEDyDjGuDA1Dpz+8vKy1WrBSUR/VhZcv8vlEkdq64CyshLABOaH4yyWoQwJVik0UfBpGEYu5D3B7/bDDz+cn5+TfS5CjTvGxkzVWUdmNadcr1BupW5ufuWqG1P9wUoJO21V9KGSfi61Wkh5KlBePuuNAHKS0ejKpCjU67PgC1SM6sW2rIzqOsnlwDWuGcw02NvFxQUYITyscNFrfhrHC6UTsN/IhPLvtVoNyQZw1oLDAW1Ma4fXFlYdba9Go4EdSMYYZFfRawsdGv5dJIVRy+z3+2/evDk5ORmNRgQlLXe+Uaf8Rpa2rXy/O22ILb79duYRKFd7U58S+YcjnZLYVc4XoZaCia6riEMTfJULgK+j+HZS35XPd87B3MGvdJ1mWUZPO6S5MQYggHaB99brdUTYcaMxBsb4POykA5M+PDyEa53LaTQa4YQAjN6jR4+894h2ogFIpsnDOfLIEry6usKeONQfjVRPnsMUyco1c3+LKd8V3Wi5K44j9rk5/exYAaVcmpBdhsJ5ylZVpkcYzaSoHdFgRMelc8AFl2cKYgUiNYeIQ/N6tBwilTa+D95ypMw555bL5XA4dM4hNIDA6Xw+h/eHrM57zwDswcEB4kzIPgF7hsbJVJJut4v8LKTlQ5dAI/v9vrV2PB6fnJwg+Rr5fstQtmARKjfNy3vi1tN6dN43dm9EZ/Q9lSW7pSs3Nn7TD+wq1cFCNkxaMeRpVym8fLm8vHJi4tgE1zchm4WCclF0kYDW5WFFG7ZhQzPTlo0xSGeBUWWMgXKJ886KohgMBrgMzNV7z4w7OJWAY2yeJrcG90XSnQ8nA2GPEVyqjNBiV+B4PP7++++//fZbCHcufjB1aCxropoPo0fq627x06orb2e/g/I1iKwkzrpy2eh2lfLqDcjElnfBw2rFe6+cOAv7HtUjS8eQk6Ixytfpr6Ux55wDi8KOPBrLsLu99wAcFEqkvEAlwOG7jx49glYKVDFyAV0Wnvwsy+bzOc5NzMJRQMPhELosMI2sJaTr+xAdsNZiVbCQGIe3SLanvlO0qmGqLrIjis5tu5PzHluVF2ISrSJiqCbR5b1sV9L+KL/0oZBdVg4+uRBh0luodKqId3LaVR62iBDW6gHYC0VpAD6E6WGaoNgEI4poM4IROGxqIRsyKbWRA7pcLnmcoTHGhVx6eAZOT0+vrq6wfQDa8OvXr2Hv++BGNcYw1Vpj7l4qAxAKHCWdrFW0FbutvH3Nr5XQTL+sBOgt1lteiUh2L2Krtuzc4gdfDjnqBVZ22C2kmjPZKv51Zb8pf1JmrEyXgl6FvrJYKJEuZIpAFsPXA4U1C5V7XdipzRgmGg8X0k8//YRqtE+ePAHUoI8iwxD5eEU4Sw4Z/qiqkuc5cqLhwYUpxgi7D5Ua8GUh+991DG0Szt2Qbo3RuzBsylJttiqQt6A8ilhEPDLCrilHvSNmblYMog2pbvolzTqdAL3SljVLNZKM8NdIJVWw8oFZKNCVCamunIX0UJvkNLBEymQyQUUxMGlcgMRkuF2RypRLjcVGo9FqtbCF+vLykqFXvItFg70UsrRCJsHrqhHeId3I5JRnRdxK25aFY5Cobd+uPfl4PFZpq4hMeWqliKnsEtu0HrsmYbpzqRWtMU8f7HFFJOFry8aZFdNN/6rOADtM8coro46Az/V6Pbha4T/CjgCoGfBi5iGF3oQi83BFwfEJU4lZnggcpGa7Mou7YPG+cZxSKuK51O/CQWNne2TKRHhd0+3o123blDJpU0Z5IcXo+DrVa12Vc4oX8EbFokbzI+ItmdSShnqAQCt2Vhlj2u02zkOHwe5Dzj+Kppyfn+MMdJ5lyCAqz/cw5WW8yUpeQ3eH5oYc1JRZWPolJYZ2c1tglMqz25BqpLYI1cQb272GrVaq1ZWdrFwYlQ9UNYPPVCxGkHWhZpheQBT6EAiIeCoHxIQkErwC3n4EObMsg4OJ4SsopvQfsdIneSfPAoikFsXFtpJ9tyxzzVyn01rJO43Uk9LY2NYATTumnCaaYJtUjatkrukzN+xw9I2CONUu0uVbKS6tWFRGzqi1orZyX5t+SYBGLNlJEr4NOusy1GLFBcz/Z7TdS3oUA0gmKNMmAWjlpFTSfUjzWwBU58iH4I721NwOoCax0HWkVHUjZM2WEFxDKRY55abMRysBGn1ZyXFT3SMT35ZJqpvYsvnlJJ/ViZWWyVZ3vAgDhWNowCAVvpgqptKR/XspM22SfZvr6T6gyU5t8lPEQSO8stc6y9vi5Bc/aMqoTQhSWWuZ6wlfDJmKESiv71glrQK6wjT9dVWbb3wFMe2ljIopZ1Vr75wES5WPmqAOURy7cFQS4E62AX65kAOWCjnaNBU7qXDffOh2QqswtKphyiZM4nyMJvEWXCzXf2yi53HUfEjkAVJT0Z+OePTAVY1LryHiK/lr9CFiq6ZqpqPFoxxaV0L0Ol1+LomKOQnt8tUQ7i4UqjVy9q5uICYV5dNkomFfQ2vG+a1QZQMqWczWT+YL9Lnrm8IPrhzacWJTp23d5BW2qjJyevut6Y6redUDCVOY+enEVP6rkie65oE1zohWcdBVX6Yr34cc3EVyiMe2lPPRG8roqDXkAVk528gmLqGIpUWcjx2rnIBdzUqk1G51bzQyEeMvykVBordEM6S8eVUj30fSPqYDYm5tJO2EnDjDyU0jo+rWy+jtyq/1DYhg6hJXP4C4lHL6pqxFrKeHx+uqzq4SC4UUUjRhHLjN5o6NyW++pIpSwVTIwd227MHh5zW38/vK0VkzSRsqJHeE+JqlrzyykimmWHw3cbkVRcI9/fWOASTSLQG6fpF5Ob2dhi2lPx00ZgN/fqXhsqG6dn8UKQlq2q9q21b+o0q6oxS6C6nqtQl/3RU6zQ5F/HqiAqBxGvXamMB93WaBq21pV09bhT+dP11UkRa+4Vt2vuq2lSSVyvQq40+VHJi53Pq3+RtX0S056BqqHAuADzEVQFPj4GskI2mVFbnhXO5Q1vO9keKlDDX6sPl77w+a/Pd2I7Ch9exl//tO+rJ7gFaS4oNRafJU3T2ny9GsmOz015TuzyEQeTzAV9Zz0xQl2osdtu2eaEO0UVBoEIR0u7Vx7yPikoOQf36xNFc9/zCqGFEkoCMbKxIr990L0o3qb6Q0V9646t47NmxDz0C6oqKGVfrLKh+SXqDh3G27UN2enTyl+tFr4/WrZHoeympGWUXrOxxpfjto/dp3rXoR27m5nb5zo2cTgG51wRqwRjLEh/i7Fpa6Iz2QiK80z6OhLEIxUSs5HLqTUz3/JoE72eqN0v+OtB5Ym7/3waCZKktrXr1KLVnzUuUdd9nAWUn3CNDNVyoRaQR8LESo/lRNpuZDUs31AehGq+6Bab2+YTbWhVYtv0pYp2rMrQs0rKIH4qAppaiqHEF02Er9pshL5aS4Lo1rmySaPBhw75sehkOnZtyap6ns2i37NG8RoAqgVaMQSW0k/9pyimqUML8K67d2r6yhh4f+22LSlbwj1UeVd+5qwN8aQJVWzXRqVIFNMkXVyqZNGv56feWj7t7UGy/YLWrvgsudACXtVGoGqPuTWuzdX/32AbqJtywV2Uai/9iGRv8/0+Mr33Xryd7EOl5jiKy3YG73xvWkQNn8rs2NpOhKH+j2La6id9QzfCOlSpKVDBVbzvyn9Pfeq1/2xgfy31W/rqENAfpWaL0Vv+rf6KfIGx8d/PCeuZnuj9RIguEPKKSRKieb/kBGxlf9l5VhIf674dC/U4jcOaU4vicO+t4DNFWGaFGZwFb1jAQnW1P0Xt0EF30wd9YCzVqm9c7Shm325e1Wu6VfCUBBEefDggZSYVFF+alWyJSVqpTFqn5ptgHcXRTfd4dWyXobgu/LLY+Q25DeV4De6PiINCFaVMtwLCJ9VbmcVBY9ypfzIG/kqZXmXeX3b5F20phoqHfu/iS9rwA128eUjYCMmiijUzioWDP/U1/JquiRXpAC/T1in5uArHJUI4DuEKzvzdhtSKm5nV6Q2te2KpmaF6vldKM5/y4b76BVI1OJvPSnSJJ471krZdctNea95qCVdGu2WsgBYvjeJqRqa6TCRhrqO0475OuRkbpDBxPo/wN/hBVZ4Vd0XgAAAABJRU5ErkJggg==\" class=\"ndarray_image_preview\" /><pre class=\"ndarray_raw_data\">array([[[0, 0, 0],\n",
              "        [0, 0, 0],\n",
              "        [0, 0, 0],\n",
              "        ...,\n",
              "        [0, 0, 0],\n",
              "        [0, 0, 0],\n",
              "        [0, 0, 0]],\n",
              "\n",
              "       [[0, 0, 0],\n",
              "        [0, 0, 0],\n",
              "        [0, 0, 0],\n",
              "        ...,\n",
              "        [0, 0, 0],\n",
              "        [0, 0, 0],\n",
              "        [0, 0, 0]],\n",
              "\n",
              "       [[0, 0, 0],\n",
              "        [0, 0, 0],\n",
              "        [0, 0, 0],\n",
              "        ...,\n",
              "        [0, 0, 0],\n",
              "        [0, 0, 0],\n",
              "        [0, 0, 0]],\n",
              "\n",
              "       ...,\n",
              "\n",
              "       [[0, 0, 0],\n",
              "        [0, 0, 0],\n",
              "        [0, 0, 0],\n",
              "        ...,\n",
              "        [0, 0, 0],\n",
              "        [0, 0, 0],\n",
              "        [0, 0, 0]],\n",
              "\n",
              "       [[0, 0, 0],\n",
              "        [0, 0, 0],\n",
              "        [0, 0, 0],\n",
              "        ...,\n",
              "        [0, 0, 0],\n",
              "        [0, 0, 0],\n",
              "        [0, 0, 0]],\n",
              "\n",
              "       [[0, 0, 0],\n",
              "        [0, 0, 0],\n",
              "        [0, 0, 0],\n",
              "        ...,\n",
              "        [0, 0, 0],\n",
              "        [0, 0, 0],\n",
              "        [0, 0, 0]]], dtype=uint8)</pre></div><script>\n",
              "      (() => {\n",
              "      const titles = ['show data', 'hide data'];\n",
              "      let index = 0\n",
              "      document.querySelector('#id-7fe93773-d280-462d-9e93-b78edeb8f929 button').onclick = (e) => {\n",
              "        document.querySelector('#id-7fe93773-d280-462d-9e93-b78edeb8f929').classList.toggle('show_array');\n",
              "        index = (++index) % 2;\n",
              "        document.querySelector('#id-7fe93773-d280-462d-9e93-b78edeb8f929 button').textContent = titles[index];\n",
              "        e.preventDefault();\n",
              "        e.stopPropagation();\n",
              "      }\n",
              "      })();\n",
              "    </script>"
            ]
          },
          "metadata": {},
          "execution_count": 18
        }
      ],
      "source": [
        "img=imread('/content/drive/MyDrive/data/train/not fractured/10-rotated1-rotated1-rotated1.jpg')\n",
        "img"
      ]
    },
    {
      "cell_type": "code",
      "source": [
        "img=resize(img,(150,150,1))\n",
        "img.shape"
      ],
      "metadata": {
        "colab": {
          "base_uri": "https://localhost:8080/"
        },
        "id": "_KG1W9O9_Sbb",
        "outputId": "9893426d-4ec5-419f-cd7a-71339f3894b6"
      },
      "execution_count": null,
      "outputs": [
        {
          "output_type": "execute_result",
          "data": {
            "text/plain": [
              "(150, 150, 1)"
            ]
          },
          "metadata": {},
          "execution_count": 19
        }
      ]
    },
    {
      "cell_type": "code",
      "source": [
        "img=img.reshape(1,150,150,1)\n",
        "img.shape"
      ],
      "metadata": {
        "colab": {
          "base_uri": "https://localhost:8080/"
        },
        "id": "QkuTCzJ5_V-I",
        "outputId": "a005be76-3fa4-443f-8153-f2508c4b85a2"
      },
      "execution_count": null,
      "outputs": [
        {
          "output_type": "execute_result",
          "data": {
            "text/plain": [
              "(1, 150, 150, 1)"
            ]
          },
          "metadata": {},
          "execution_count": 20
        }
      ]
    },
    {
      "cell_type": "code",
      "source": [
        "Y_new=model.predict(img)\n",
        "ind=Y_new.argmax()\n",
        "categories[ind]"
      ],
      "metadata": {
        "colab": {
          "base_uri": "https://localhost:8080/",
          "height": 53
        },
        "id": "DxO_qwR5_YOX",
        "outputId": "e851edba-9ee3-4565-fed4-c645a91fcd11"
      },
      "execution_count": null,
      "outputs": [
        {
          "output_type": "stream",
          "name": "stdout",
          "text": [
            "\u001b[1m1/1\u001b[0m \u001b[32m━━━━━━━━━━━━━━━━━━━━\u001b[0m\u001b[37m\u001b[0m \u001b[1m0s\u001b[0m 93ms/step\n"
          ]
        },
        {
          "output_type": "execute_result",
          "data": {
            "text/plain": [
              "'not fractured'"
            ],
            "application/vnd.google.colaboratory.intrinsic+json": {
              "type": "string"
            }
          },
          "metadata": {},
          "execution_count": 21
        }
      ]
    }
  ],
  "metadata": {
    "accelerator": "GPU",
    "colab": {
      "gpuType": "T4",
      "provenance": []
    },
    "kernelspec": {
      "display_name": "Python 3",
      "name": "python3"
    },
    "language_info": {
      "name": "python"
    }
  },
  "nbformat": 4,
  "nbformat_minor": 0
}